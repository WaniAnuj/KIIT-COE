{
 "cells": [
  {
   "cell_type": "markdown",
   "metadata": {},
   "source": [
    "# Matplotlib"
   ]
  },
  {
   "cell_type": "code",
   "execution_count": null,
   "metadata": {},
   "outputs": [],
   "source": [
    "# pip install matplotlib"
   ]
  },
  {
   "cell_type": "code",
   "execution_count": null,
   "metadata": {},
   "outputs": [],
   "source": [
    "import matplotlib\n",
    "matplotlib.__version__"
   ]
  },
  {
   "cell_type": "code",
   "execution_count": null,
   "metadata": {},
   "outputs": [],
   "source": [
    "%matplotlib inline"
   ]
  },
  {
   "cell_type": "code",
   "execution_count": 3,
   "metadata": {},
   "outputs": [],
   "source": [
    "import matplotlib.pyplot as plt\n",
    "import numpy as np"
   ]
  },
  {
   "cell_type": "code",
   "execution_count": null,
   "metadata": {},
   "outputs": [],
   "source": [
    "x = np.linspace(0,10,11)\n",
    "print(x)\n",
    "y = x**2\n",
    "print(y)"
   ]
  },
  {
   "cell_type": "code",
   "execution_count": null,
   "metadata": {},
   "outputs": [],
   "source": [
    "plt.figure()"
   ]
  },
  {
   "cell_type": "code",
   "execution_count": null,
   "metadata": {},
   "outputs": [],
   "source": [
    "plt.plot(x,y)\n",
    "plt.show()"
   ]
  },
  {
   "cell_type": "markdown",
   "metadata": {},
   "source": [
    "- Understanding arguments"
   ]
  },
  {
   "cell_type": "code",
   "execution_count": null,
   "metadata": {},
   "outputs": [],
   "source": [
    "x = np.linspace(0,10,11)\n",
    "y = x**2\n",
    "plt.figure()\n",
    "plt.plot(x,y, color='#23a19a') # colour char / colour word / colour code\n",
    "plt.title('Square of X')\n",
    "plt.xlabel('X')\n",
    "plt.ylabel('Y')\n",
    "plt.grid()\n",
    "plt.axis([-1,11,-10,110]) #[x1,x2,y1,y2]\n",
    "plt.show()"
   ]
  },
  {
   "cell_type": "code",
   "execution_count": null,
   "metadata": {},
   "outputs": [],
   "source": [
    "x = np.linspace(0,10,10)\n",
    "y = x**2\n",
    "\n",
    "# figsize, dpi, facecolor, edgecolor, linewidth, frameon\n",
    "plt.figure(dpi = 120, facecolor = 'c', linewidth = 5, edgecolor = 'k', frameon = True)\n",
    "\n",
    "# color, alpha, linestyle, linewidth, marker, markersize\n",
    "plt.plot(x,y, color='r', alpha = 0.8, linestyle = '--', linewidth = 2, marker = 'o', markersize = 10)\n",
    "plt.title('Square of X', fontsize = 20)\n",
    "plt.xlabel('X', fontsize = 15)\n",
    "plt.ylabel('Y', fontsize = 15)\n",
    "plt.grid()\n",
    "plt.axis([-1,11,-10,110]) #[x1,x2,y1,y2]\n",
    "plt.show()"
   ]
  },
  {
   "cell_type": "markdown",
   "metadata": {},
   "source": [
    "- subplot"
   ]
  },
  {
   "cell_type": "code",
   "execution_count": null,
   "metadata": {},
   "outputs": [],
   "source": [
    "x = np.linspace(0,10,11)\n",
    "y = x**2\n",
    "\n",
    "plt.subplot(1,2,1) # row num, column num, plot num\n",
    "plt.plot(x,y, 'r--o') # fmt formatting-- color, marker, linestyle\n",
    "\n",
    "plt.subplot(1,2,2)\n",
    "plt.plot(y,x, 'g-*')\n",
    "\n",
    "plt.show()"
   ]
  },
  {
   "cell_type": "code",
   "execution_count": null,
   "metadata": {},
   "outputs": [],
   "source": [
    "x = [5, 7, 10]\n",
    "y = [12, 15, 6]\n",
    "plt.plot(x,y)"
   ]
  },
  {
   "cell_type": "code",
   "execution_count": null,
   "metadata": {},
   "outputs": [],
   "source": [
    "x = [5, 7, 10]\n",
    "y = [12, 15, 6]\n",
    "\n",
    "x1 = [3, 8, 12]\n",
    "y1 = [5, 9, 15]\n",
    "# plt.plot(x,y, x1, y1)\n",
    "plt.plot(x,y, color = 'r')\n",
    "plt.plot(x1,y1, color = 'g')"
   ]
  },
  {
   "cell_type": "code",
   "execution_count": null,
   "metadata": {},
   "outputs": [],
   "source": [
    "\n",
    "plt.figure()\n",
    "x = np.linspace(0,5,11)\n",
    "y1 = x**2\n",
    "y2 = x**3\n",
    "\n",
    "plt.plot(x,y1, color = 'r', label = 'Power of 2')\n",
    "plt.plot(x,y2, color = 'g', label = 'Power of 3')\n",
    "plt.legend()\n",
    "plt.grid(color = 'b', alpha = 0.3)\n",
    "plt.show()"
   ]
  },
  {
   "cell_type": "markdown",
   "metadata": {},
   "source": [
    "- scatter"
   ]
  },
  {
   "cell_type": "code",
   "execution_count": null,
   "metadata": {},
   "outputs": [],
   "source": [
    "x = [5, 7, 10]\n",
    "y = [12, 15, 6]\n",
    "\n",
    "x1 = [3, 8, 12]\n",
    "y1 = [5, 9, 15]\n",
    "\n",
    "plt.scatter(x,y, color = 'r', label = 'Red Spots', marker = 'o', s = 500, alpha = 0.3)\n",
    "plt.scatter(x1,y1, color = 'b', label = 'Blue Spots', marker = 'o', s = 100, alpha = 0.6)\n",
    "plt.legend(loc = 2)\n",
    "plt.show()"
   ]
  },
  {
   "cell_type": "markdown",
   "metadata": {},
   "source": [
    "- bar"
   ]
  },
  {
   "cell_type": "code",
   "execution_count": null,
   "metadata": {},
   "outputs": [],
   "source": [
    "from matplotlib import style\n",
    "\n",
    "#print(plt.style.available)\n",
    "#plt.style.use('dark_background')\n",
    "\n",
    "x = [5, 7, 10]\n",
    "y = [12, 15, 6]\n",
    "\n",
    "x1 = [3, 8, 12]\n",
    "y1 = [5, 9, 15]\n",
    "\n",
    "plt.bar(x,y, color = 'r', label = 'Red', width = -0.4, align = 'center', tick_label = 'red')\n",
    "plt.bar(x1,y1, color = 'g', label = 'Green', width = -0.4, align = 'center', tick_label = 'green')"
   ]
  },
  {
   "cell_type": "markdown",
   "metadata": {},
   "source": [
    "- mixture of plot"
   ]
  },
  {
   "cell_type": "code",
   "execution_count": null,
   "metadata": {},
   "outputs": [],
   "source": [
    "x = np.linspace(0,10,11)\n",
    "y = x**2\n",
    "fig = plt.figure()\n",
    "axes = fig.add_axes([0.1,0.1,0.8,0.8])\n",
    "axes.plot(x,y,'r')\n",
    "plt.show()"
   ]
  },
  {
   "cell_type": "code",
   "execution_count": null,
   "metadata": {},
   "outputs": [],
   "source": [
    "x = np.linspace(0,10,11)\n",
    "y = x**2\n",
    "fig = plt.figure()\n",
    "\n",
    "axes1 = fig.add_axes([0.1,0.1,0.8,0.8])\n",
    "axes2 = fig.add_axes([0.2,0.5,0.3,0.3])\n",
    "\n",
    "axes1.plot(x,y,'r')\n",
    "axes2.plot(y,x,'g')\n",
    "plt.show()"
   ]
  },
  {
   "cell_type": "code",
   "execution_count": null,
   "metadata": {},
   "outputs": [],
   "source": [
    "fig.savefig(\"plot1.png\")\n",
    "fig.savefig(\"plot1.png\", dpi = 500)"
   ]
  },
  {
   "cell_type": "markdown",
   "metadata": {},
   "source": [
    "- histogram"
   ]
  },
  {
   "cell_type": "code",
   "execution_count": 23,
   "metadata": {},
   "outputs": [
    {
     "data": {
      "image/png": "[encoded data removed]",
      "text/plain": [
       "<Figure size 432x288 with 1 Axes>"
      ]
     },
     "metadata": {
      "needs_background": "light"
     },
     "output_type": "display_data"
    }
   ],
   "source": [
    "x = 100 + 10*np.random.randn(10000)\n",
    "#print(x)\n",
    "plt.hist(x, 50, color = 'r', cumulative = False)\n",
    "\n",
    "plt.xlabel('People')\n",
    "plt.ylabel('Frequency')\n",
    "\n",
    "plt.show()"
   ]
  },
  {
   "cell_type": "code",
   "execution_count": null,
   "metadata": {},
   "outputs": [],
   "source": []
  },
  {
   "cell_type": "code",
   "execution_count": null,
   "metadata": {},
   "outputs": [],
   "source": []
  },
  {
   "cell_type": "code",
   "execution_count": null,
   "metadata": {},
   "outputs": [],
   "source": []
  }
 ],
 "metadata": {
  "kernelspec": {
   "display_name": "Python 3",
   "language": "python",
   "name": "python3"
  },
  "language_info": {
   "codemirror_mode": {
    "name": "ipython",
    "version": 3
   },
   "file_extension": ".py",
   "mimetype": "text/x-python",
   "name": "python",
   "nbconvert_exporter": "python",
   "pygments_lexer": "ipython3",
   "version": "3.8.5"
  }
 },
 "nbformat": 4,
 "nbformat_minor": 4
}
