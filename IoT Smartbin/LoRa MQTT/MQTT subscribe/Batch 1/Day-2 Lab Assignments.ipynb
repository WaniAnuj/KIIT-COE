{
 "cells": [
  {
   "cell_type": "markdown",
   "metadata": {},
   "source": [
    "# Lab Assignments 1- 10"
   ]
  },
  {
   "cell_type": "markdown",
   "metadata": {},
   "source": [
    "### LA1 - Profit/Loss Calculation"
   ]
  },
  {
   "cell_type": "markdown",
   "metadata": {},
   "source": [
    "Write a program to find out if there is a profit or loss in a transaction based on selling price and cost price. Take these 2 inputs from user and calculate the amount of profit/loss for that transaction."
   ]
  },
  {
   "cell_type": "code",
   "execution_count": null,
   "metadata": {},
   "outputs": [],
   "source": [
    "user input = selling price\n",
    "user input = cost price\n",
    "\n",
    "sp is greater than cp ---> profit = sp- cp\n",
    "cp is greater than sp ---> loss = \n",
    "\n",
    "profit of much \n",
    "loss of much "
   ]
  },
  {
   "cell_type": "markdown",
   "metadata": {},
   "source": [
    "### LA2 - Simple and Compound Interest Calculation"
   ]
  },
  {
   "cell_type": "markdown",
   "metadata": {},
   "source": [
    "Write a program to calculate interest based on principle, number of years and rate of interest. Take these 3 inputs from user, calculate simple interest and print it.\n",
    "Similarly, also calculate compound interest and print it.\n",
    "Take another input as number of installments in the later case."
   ]
  },
  {
   "cell_type": "code",
   "execution_count": null,
   "metadata": {},
   "outputs": [],
   "source": [
    "user input = principal amount\n",
    "user input = rate of interest\n",
    "user input = no of years/days/months\n",
    "user input = no of installments\n",
    "\n",
    "500--->500+50--->550+50+50--->650+50+50+50\n",
    "\n",
    "SI = p*n*r/100\n",
    "CI = \n",
    "\n",
    "print(SI)\n",
    "print(CI)"
   ]
  },
  {
   "cell_type": "markdown",
   "metadata": {},
   "source": [
    "### LA3 - Leap Year Check"
   ]
  },
  {
   "cell_type": "markdown",
   "metadata": {},
   "source": [
    "Write a program that reads a year from the user and displays a message indicating whether or not it is a leap year."
   ]
  },
  {
   "cell_type": "code",
   "execution_count": null,
   "metadata": {},
   "outputs": [],
   "source": [
    "user input - year\n",
    "1) Divisible by 4 \n",
    "2) not divisible by 100\n",
    "3) divisible by 400\n",
    "print(leap year)\n",
    "print(not leap year)\n"
   ]
  },
  {
   "cell_type": "markdown",
   "metadata": {},
   "source": [
    "### LA4 - Implementation of Basic Calculator"
   ]
  },
  {
   "cell_type": "markdown",
   "metadata": {},
   "source": [
    "Write a program to implement a basic calculator performing addition, subtraction, multiplication and division of 2 numbers. Take these 2 numbers from user and the operation (A,S,M,D) to be performed and print the output."
   ]
  },
  {
   "cell_type": "code",
   "execution_count": null,
   "metadata": {},
   "outputs": [],
   "source": [
    "user input - number1\n",
    "user input - number2\n",
    "\n",
    "user input - operation (A,S,M,D)\n",
    "\n",
    "A\n",
    "print - number1 + number2"
   ]
  },
  {
   "cell_type": "markdown",
   "metadata": {},
   "source": [
    "### LA5 - String number validation"
   ]
  },
  {
   "cell_type": "markdown",
   "metadata": {},
   "source": [
    "Write a program to check if the input number contains the middle number same as the one declared by the user. Take a long number as a string from user and take another single digit. Perform above check only if the number is odd digits. If the middle number matches, print a message stating that it is validated, else it is not."
   ]
  },
  {
   "cell_type": "code",
   "execution_count": null,
   "metadata": {},
   "outputs": [],
   "source": [
    "user input - long number (ex. 12345)\n",
    "user input - single digit\n",
    "\n",
    "1) long number is even/odd ---> print - invalid number \n",
    "\n",
    "odd\n",
    "\n",
    "2) middle number is equal to the single digit ---> print - string is validated\n",
    "                                              ----> print - string is not validated\n"
   ]
  },
  {
   "cell_type": "markdown",
   "metadata": {},
   "source": [
    "### LA6 - List manipulation"
   ]
  },
  {
   "cell_type": "markdown",
   "metadata": {},
   "source": [
    "Write a program to perform following list manipulations. Take a list of 8 elements and print the first and last element of list and delete it. Repeat 4 times without using any loop statement."
   ]
  },
  {
   "cell_type": "code",
   "execution_count": null,
   "metadata": {},
   "outputs": [],
   "source": [
    "user input - 1,2,3,4,5,6,7,8\n",
    "\n",
    "print - 1,8\n",
    "print - list --> 2,3,4,5,6,7\n",
    "print - 2,7\n",
    "print - list --> 3,4,5,6\n",
    "print - 3,6\n",
    "print - list --> 4,5\n",
    "print - 4,5\n",
    "print - list --> []\n",
    "\n",
    "\n",
    ".remove()\n",
    "\n",
    "\n",
    "list[-1] - del \n",
    "list[0]"
   ]
  },
  {
   "cell_type": "code",
   "execution_count": 4,
   "metadata": {},
   "outputs": [
    {
     "name": "stdout",
     "output_type": "stream",
     "text": [
      "Enter the list of numbers: 12345678\n",
      "<class 'list'>\n",
      "['1', '2', '3', '4', '5', '6', '7', '8']\n"
     ]
    }
   ],
   "source": [
    "user = list(input(\"Enter the list of numbers: \"))\n",
    "print(type(user))\n",
    "print(user)"
   ]
  },
  {
   "cell_type": "markdown",
   "metadata": {},
   "source": [
    "### LA7 - Electricity bill calculation"
   ]
  },
  {
   "cell_type": "markdown",
   "metadata": {},
   "source": [
    "Take input electricity units from user and calculate the electricity bill using following charges:\n",
    "Up to 50 units: Rs. 0.5/unit\n",
    "50 units to 100 units: Rs. 0.8/unit\n",
    "100 units to 200 units: Rs. 1.2/unit\n",
    "Over 200 units: Rs. 1.8/unit\n"
   ]
  },
  {
   "cell_type": "code",
   "execution_count": null,
   "metadata": {},
   "outputs": [],
   "source": [
    " 0 - 50  ---> 0.5\n",
    " 50 - 100 ---> 0.8\n",
    " 100 - 200 ---> 1.2\n",
    " beyond 200 ---> 1.8"
   ]
  }
 ],
 "metadata": {
  "kernelspec": {
   "display_name": "Python 3",
   "language": "python",
   "name": "python3"
  },
  "language_info": {
   "codemirror_mode": {
    "name": "ipython",
    "version": 3
   },
   "file_extension": ".py",
   "mimetype": "text/x-python",
   "name": "python",
   "nbconvert_exporter": "python",
   "pygments_lexer": "ipython3",
   "version": "3.6.7"
  }
 },
 "nbformat": 4,
 "nbformat_minor": 2
}
