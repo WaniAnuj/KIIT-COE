{
 "cells": [
  {
   "cell_type": "markdown",
   "metadata": {},
   "source": [
    "# Basics of Python - 1"
   ]
  },
  {
   "cell_type": "markdown",
   "metadata": {},
   "source": [
    "This is day 1 Jupyter notebook."
   ]
  },
  {
   "cell_type": "code",
   "execution_count": 1,
   "metadata": {},
   "outputs": [
    {
     "name": "stdout",
     "output_type": "stream",
     "text": [
      "Hello World\n"
     ]
    }
   ],
   "source": [
    "print(\"Hello World\")"
   ]
  },
  {
   "cell_type": "code",
   "execution_count": 2,
   "metadata": {},
   "outputs": [
    {
     "name": "stdout",
     "output_type": "stream",
     "text": [
      "True\n",
      "4\n",
      "4.3\n",
      "c\n"
     ]
    }
   ],
   "source": [
    "print(True)\n",
    "print(4)\n",
    "print(4.3)\n",
    "print('c')"
   ]
  },
  {
   "cell_type": "code",
   "execution_count": 3,
   "metadata": {},
   "outputs": [
    {
     "name": "stdout",
     "output_type": "stream",
     "text": [
      "<class 'int'>\n",
      "<class 'float'>\n",
      "<class 'str'>\n",
      "<class 'bool'>\n",
      "<class 'str'>\n"
     ]
    }
   ],
   "source": [
    "print(type(4))\n",
    "print(type(4.3))\n",
    "print(type('c'))\n",
    "print(type(True))\n",
    "print(type(\"Hello World\"))"
   ]
  },
  {
   "cell_type": "markdown",
   "metadata": {},
   "source": [
    "## Arithmetic Operations"
   ]
  },
  {
   "cell_type": "code",
   "execution_count": 4,
   "metadata": {},
   "outputs": [
    {
     "name": "stdout",
     "output_type": "stream",
     "text": [
      "10\n",
      "4\n",
      "21\n",
      "2.3333333333333335\n",
      "2\n",
      "1\n",
      "343\n"
     ]
    }
   ],
   "source": [
    "print(7+3)\n",
    "print(7-3)\n",
    "print(7*3)\n",
    "print(7/3)\n",
    "\n",
    "print(7//3) # floor division\n",
    "print(7%3) # modulo\n",
    "print(7**3) # power"
   ]
  },
  {
   "cell_type": "code",
   "execution_count": 5,
   "metadata": {},
   "outputs": [
    {
     "name": "stdout",
     "output_type": "stream",
     "text": [
      "2.75\n",
      "2.5\n",
      "2.2727272727272725\n",
      "2.0\n",
      "15\n",
      "15.600000000000001\n",
      "17.16\n"
     ]
    }
   ],
   "source": [
    "print(5.5/2)\n",
    "print(5.5/2.2)\n",
    "\n",
    "print(5/2.2)\n",
    "print(4/2)\n",
    "\n",
    "print(5*3)\n",
    "print(5.2*3)\n",
    "print(5.2*3.3)"
   ]
  },
  {
   "cell_type": "markdown",
   "metadata": {},
   "source": [
    "## Lists"
   ]
  },
  {
   "cell_type": "code",
   "execution_count": 6,
   "metadata": {},
   "outputs": [
    {
     "data": {
      "text/plain": [
       "[1, 2, 3, 4]"
      ]
     },
     "execution_count": 6,
     "metadata": {},
     "output_type": "execute_result"
    }
   ],
   "source": [
    "[1, 2, 3, 4]"
   ]
  },
  {
   "cell_type": "code",
   "execution_count": 7,
   "metadata": {},
   "outputs": [
    {
     "name": "stdout",
     "output_type": "stream",
     "text": [
      "[1, 2, 3, 4]\n",
      "<class 'list'>\n"
     ]
    }
   ],
   "source": [
    "list1 = [1, 2, 3, 4]\n",
    "print(list1)\n",
    "print(type(list1))"
   ]
  },
  {
   "cell_type": "code",
   "execution_count": 8,
   "metadata": {},
   "outputs": [
    {
     "name": "stdout",
     "output_type": "stream",
     "text": [
      "[4, 7.2, 'c', 'Prathamesh']\n"
     ]
    }
   ],
   "source": [
    "list2 = [4, 7.2, 'c', \"Prathamesh\"]\n",
    "print(list2)"
   ]
  },
  {
   "cell_type": "markdown",
   "metadata": {},
   "source": [
    "List Indexing"
   ]
  },
  {
   "cell_type": "code",
   "execution_count": 9,
   "metadata": {},
   "outputs": [
    {
     "name": "stdout",
     "output_type": "stream",
     "text": [
      "[4, 7.2, 'c', 'Prathamesh']\n",
      "4\n",
      "7.2\n",
      "c\n",
      "Prathamesh\n"
     ]
    }
   ],
   "source": [
    "print(list2)\n",
    "print(list2[0])\n",
    "print(list2[1])\n",
    "print(list2[2])\n",
    "print(list2[3])"
   ]
  },
  {
   "cell_type": "markdown",
   "metadata": {},
   "source": [
    "List Updating"
   ]
  },
  {
   "cell_type": "code",
   "execution_count": 10,
   "metadata": {},
   "outputs": [
    {
     "name": "stdout",
     "output_type": "stream",
     "text": [
      "[4, 7.2, 'c', 'Prathamesh']\n",
      "[4, 9.2, 'c', 'Prathamesh']\n"
     ]
    }
   ],
   "source": [
    "print(list2)\n",
    "list2[1] = 9.2\n",
    "print(list2)"
   ]
  },
  {
   "cell_type": "code",
   "execution_count": 11,
   "metadata": {},
   "outputs": [
    {
     "name": "stdout",
     "output_type": "stream",
     "text": [
      "[4, 9.2, 'c', 'Prathamesh']\n",
      "['Hello', 9.2, 'c', 'Prathamesh']\n"
     ]
    }
   ],
   "source": [
    "print(list2)\n",
    "list2[0] = \"Hello\"\n",
    "print(list2)"
   ]
  },
  {
   "cell_type": "markdown",
   "metadata": {},
   "source": [
    "List operations"
   ]
  },
  {
   "cell_type": "code",
   "execution_count": 12,
   "metadata": {},
   "outputs": [
    {
     "name": "stdout",
     "output_type": "stream",
     "text": [
      "[1, 2, 3, 4, 5, 6, 7, 8]\n",
      "[1, 2, 3, 4, 1, 2, 3, 4]\n"
     ]
    }
   ],
   "source": [
    "list1 = [1,2,3,4]\n",
    "list2 = [5,6,7,8]\n",
    "\n",
    "print(list1 + list2)\n",
    "# print(list1 - list2)\n",
    "# print(list1 * list3)\n",
    "print(list1 * 2)\n",
    "# print(list1/list2)"
   ]
  },
  {
   "cell_type": "markdown",
   "metadata": {},
   "source": [
    "List Slicing"
   ]
  },
  {
   "cell_type": "code",
   "execution_count": 13,
   "metadata": {},
   "outputs": [
    {
     "name": "stdout",
     "output_type": "stream",
     "text": [
      "[1, 2, 3, 4, 5]\n",
      "[1, 2]\n",
      "[1, 2, 3, 4, 5]\n",
      "[6, 7, 8, 9, 10]\n",
      "[1, 4, 7]\n",
      "[1, 4, 7]\n"
     ]
    }
   ],
   "source": [
    "list1 = [1,2,3,4,5,6,7,8,9,10] # 0,1,2,.... 9\n",
    "print(list1[0:5])\n",
    "print(list1[0:2])\n",
    "\n",
    "print(list1[:5])\n",
    "print(list1[5:])\n",
    "\n",
    "print(list1[0:7:3]) # [start index : end index+1 : step]\n",
    "list2 = list1[0:7:3]\n",
    "print(list2)"
   ]
  },
  {
   "cell_type": "code",
   "execution_count": 14,
   "metadata": {},
   "outputs": [
    {
     "name": "stdout",
     "output_type": "stream",
     "text": [
      "[1, 2, 3, 4, 5, 6, 7, 8, 9, 10]\n",
      "10\n",
      "[4, 5, 6, 7]\n",
      "[4, 6, 8]\n"
     ]
    }
   ],
   "source": [
    "print(list1) # negative index... -10,-9,-8,..... -1\n",
    "print(list1[-1])\n",
    "\n",
    "print(list1[-7:-3])\n",
    "print(list1[-7:-1:2])"
   ]
  },
  {
   "cell_type": "markdown",
   "metadata": {},
   "source": [
    "List functions"
   ]
  },
  {
   "cell_type": "code",
   "execution_count": 15,
   "metadata": {},
   "outputs": [
    {
     "name": "stdout",
     "output_type": "stream",
     "text": [
      "10\n",
      "[1, 2, 3, 4, 5, 6, 7, 8, 9, 10, 'a']\n",
      "[1, 2, 3, 4, 5, 6, 7, 8, 9, 10, 'a', 'b']\n",
      "[1, 2, 3, 4, 5, 6, 7, 8, 9, 10, 'a', 'b', 4.2]\n"
     ]
    }
   ],
   "source": [
    "list1 = [1,2,3,4,5,6,7,8,9,10]\n",
    "print(len(list1))\n",
    "\n",
    "list1.append('a')\n",
    "print(list1)\n",
    "list1.append('b')\n",
    "print(list1)\n",
    "list1.append(4.2)\n",
    "print(list1)"
   ]
  },
  {
   "cell_type": "code",
   "execution_count": 16,
   "metadata": {},
   "outputs": [
    {
     "name": "stdout",
     "output_type": "stream",
     "text": [
      "[1, 2, 3, 4, 5, 'a', 6, 7, 8, 9, 10]\n",
      "[1, 2, 3, 4, 5, 'b', 'a', 6, 7, 8, 9, 10]\n",
      "[1, 2, 3, 4, 5, 'b', 'a', 6, 7, 8, 9, 10, 'hello', 'world']\n",
      "[5, 6, 8, 13]\n",
      "[13, 8, 6, 5]\n",
      "[]\n"
     ]
    }
   ],
   "source": [
    "list1 = [1,2,3,4,5,6,7,8,9,10]\n",
    "list1.insert(5,'a')\n",
    "print(list1)\n",
    "list1.insert(5,'b')\n",
    "print(list1)\n",
    "\n",
    "list2 = [\"hello\",\"world\"]\n",
    "list1.extend(list2)\n",
    "print(list1)\n",
    "\n",
    "list2 = [13,5,8,6]\n",
    "list2.sort()\n",
    "print(list2)\n",
    "list2.sort(reverse = True)\n",
    "print(list2)\n",
    "\n",
    "list2.clear()\n",
    "print(list2)"
   ]
  },
  {
   "cell_type": "markdown",
   "metadata": {},
   "source": [
    "## Strings"
   ]
  },
  {
   "cell_type": "markdown",
   "metadata": {},
   "source": [
    "String indexing"
   ]
  },
  {
   "cell_type": "code",
   "execution_count": 17,
   "metadata": {},
   "outputs": [
    {
     "name": "stdout",
     "output_type": "stream",
     "text": [
      "Hello world !!\n",
      "H\n",
      "!\n"
     ]
    }
   ],
   "source": [
    "str1 = \"Hello world !!\"\n",
    "print(str1)\n",
    "print(str1[0])\n",
    "print(str1[-1])"
   ]
  },
  {
   "cell_type": "markdown",
   "metadata": {},
   "source": [
    "String Slicing"
   ]
  },
  {
   "cell_type": "code",
   "execution_count": 31,
   "metadata": {},
   "outputs": [
    {
     "name": "stdout",
     "output_type": "stream",
     "text": [
      "Hello world !!\n",
      "Hello \n",
      "world\n",
      "world\n",
      "Hlo\n",
      "!!\n",
      "wo\n"
     ]
    }
   ],
   "source": [
    "print(str1)\n",
    "print(str1[0:6])\n",
    "print(str1[6:11])\n",
    "print(str1[-8:-3])\n",
    "print(str1[0:5:2])\n",
    "\n",
    "print(str1[-2:])\n",
    "\n",
    "print(str1[-8:-6])"
   ]
  },
  {
   "cell_type": "markdown",
   "metadata": {},
   "source": [
    "String operations"
   ]
  },
  {
   "cell_type": "code",
   "execution_count": 19,
   "metadata": {},
   "outputs": [
    {
     "name": "stdout",
     "output_type": "stream",
     "text": [
      "Hello world !!\n",
      "Hello world !!i love python\n",
      "Hello world !!Hello world !!\n"
     ]
    }
   ],
   "source": [
    "print(str1)\n",
    "str2 = \"i love python\"\n",
    "\n",
    "print(str1+str2)\n",
    "#print(str1-str2)\n",
    "#print(str1/str2)\n",
    "# print(str1*str2)\n",
    "print(str1*2)"
   ]
  },
  {
   "cell_type": "markdown",
   "metadata": {},
   "source": [
    "String Formatting"
   ]
  },
  {
   "cell_type": "code",
   "execution_count": 32,
   "metadata": {},
   "outputs": [
    {
     "name": "stdout",
     "output_type": "stream",
     "text": [
      "my first number is 2\n",
      "my first number is 2\n",
      "my first number is hi, my second number is 2\n",
      "my first number is 2, my second number is hi\n"
     ]
    }
   ],
   "source": [
    "num1 = 2\n",
    "num2 = \"hi\"\n",
    "\n",
    "#first method\n",
    "print(\"my first number is %d\" %(num1))\n",
    "\n",
    "#second method\n",
    "print(\"my first number is {0}\".format(num1))\n",
    "print(\"my first number is {1}, my second number is {0}\".format(num1,num2))\n",
    "print(\"my first number is {n1}, my second number is {n2}\".format(n1 = num1, n2 = num2)) #alternate variation"
   ]
  },
  {
   "cell_type": "markdown",
   "metadata": {},
   "source": [
    "## User input"
   ]
  },
  {
   "cell_type": "code",
   "execution_count": 36,
   "metadata": {},
   "outputs": [
    {
     "name": "stdout",
     "output_type": "stream",
     "text": [
      "Enter your name: prathamesh\n",
      "prathamesh\n",
      "<class 'str'>\n"
     ]
    }
   ],
   "source": [
    "user = input(\"Enter your name: \")\n",
    "print(user)\n",
    "print(type(user))"
   ]
  },
  {
   "cell_type": "code",
   "execution_count": 37,
   "metadata": {},
   "outputs": [
    {
     "name": "stdout",
     "output_type": "stream",
     "text": [
      "Enter the number:16\n",
      "16\n",
      "<class 'str'>\n"
     ]
    }
   ],
   "source": [
    "user = input(\"Enter the number:\")\n",
    "print(user)\n",
    "print(type(user))"
   ]
  },
  {
   "cell_type": "code",
   "execution_count": 38,
   "metadata": {},
   "outputs": [
    {
     "name": "stdout",
     "output_type": "stream",
     "text": [
      "Enter the Age:24\n",
      "24\n",
      "<class 'int'>\n"
     ]
    }
   ],
   "source": [
    "user = int(input(\"Enter the Age:\"))\n",
    "print(user)\n",
    "print(type(user))"
   ]
  },
  {
   "cell_type": "markdown",
   "metadata": {},
   "source": [
    "## Conditional Statements"
   ]
  },
  {
   "cell_type": "code",
   "execution_count": null,
   "metadata": {},
   "outputs": [],
   "source": []
  },
  {
   "cell_type": "code",
   "execution_count": 44,
   "metadata": {},
   "outputs": [
    {
     "name": "stdout",
     "output_type": "stream",
     "text": [
      "in else\n",
      "execution done\n"
     ]
    }
   ],
   "source": [
    "value = 3\n",
    "if value > 5:\n",
    "    print(\"done\")\n",
    "else:\n",
    "    print(\"in else\")"
   ]
  },
  {
   "cell_type": "code",
   "execution_count": 25,
   "metadata": {},
   "outputs": [
    {
     "name": "stdout",
     "output_type": "stream",
     "text": [
      "hello2\n"
     ]
    }
   ],
   "source": [
    "value = 2\n",
    "if value > 5:\n",
    "    print(\"hello1\")\n",
    "elif value < 5:\n",
    "    print(\"hello2\")\n",
    "else:\n",
    "    print(\"hello3\")"
   ]
  },
  {
   "cell_type": "code",
   "execution_count": 45,
   "metadata": {},
   "outputs": [
    {
     "name": "stdout",
     "output_type": "stream",
     "text": [
      "True\n"
     ]
    }
   ],
   "source": [
    "fruit = \"Apple\"\n",
    "isApple = False\n",
    "if fruit == \"Apple\":\n",
    "    isApple = True\n",
    "else:\n",
    "    isApple = False\n",
    "\n",
    "print(isApple)"
   ]
  },
  {
   "cell_type": "code",
   "execution_count": 27,
   "metadata": {},
   "outputs": [
    {
     "name": "stdout",
     "output_type": "stream",
     "text": [
      "False\n"
     ]
    }
   ],
   "source": [
    "fruit = \"Mango\"\n",
    "isApple = True if fruit == \"Apple\" else False\n",
    "print(isApple)\n",
    "\n",
    "# innermost if output\n",
    "# innermost if condition\n",
    "# innermost else\n",
    "# innermost else output"
   ]
  },
  {
   "cell_type": "code",
   "execution_count": 29,
   "metadata": {},
   "outputs": [
    {
     "name": "stdout",
     "output_type": "stream",
     "text": [
      "b is greater than a\n"
     ]
    }
   ],
   "source": [
    "a, b = 10, 20\n",
    "\n",
    "if a!=b:\n",
    "    if a>b:\n",
    "        print(\"a is greater than b\")\n",
    "    else:\n",
    "        print(\"b is greater than a\")\n",
    "else:\n",
    "    print(\"both are equal\")"
   ]
  },
  {
   "cell_type": "code",
   "execution_count": 30,
   "metadata": {},
   "outputs": [
    {
     "name": "stdout",
     "output_type": "stream",
     "text": [
      "b is greater than a\n"
     ]
    }
   ],
   "source": [
    "a, b = 10, 20\n",
    "print(\"a is greater than b\") if a>b else print(\"b is greater than a\") if a!=b else print(\"both are equal\")"
   ]
  },
  {
   "cell_type": "code",
   "execution_count": null,
   "metadata": {},
   "outputs": [],
   "source": []
  },
  {
   "cell_type": "code",
   "execution_count": null,
   "metadata": {},
   "outputs": [],
   "source": []
  },
  {
   "cell_type": "code",
   "execution_count": null,
   "metadata": {},
   "outputs": [],
   "source": []
  },
  {
   "cell_type": "code",
   "execution_count": null,
   "metadata": {},
   "outputs": [],
   "source": []
  }
 ],
 "metadata": {
  "kernelspec": {
   "display_name": "Python 3",
   "language": "python",
   "name": "python3"
  },
  "language_info": {
   "codemirror_mode": {
    "name": "ipython",
    "version": 3
   },
   "file_extension": ".py",
   "mimetype": "text/x-python",
   "name": "python",
   "nbconvert_exporter": "python",
   "pygments_lexer": "ipython3",
   "version": "3.6.7"
  }
 },
 "nbformat": 4,
 "nbformat_minor": 4
}
