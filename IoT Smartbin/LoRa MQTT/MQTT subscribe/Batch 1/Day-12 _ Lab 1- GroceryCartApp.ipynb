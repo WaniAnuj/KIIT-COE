{
 "cells": [
  {
   "cell_type": "code",
   "execution_count": null,
   "metadata": {},
   "outputs": [],
   "source": [
    "import pandas as pd\n",
    "from mlxtend.preprocessing import TransactionEncoder\n",
    "from mlxtend.frequent_patterns import apriori\n",
    "from mlxtend.frequent_patterns import association_rules\n",
    "\n",
    "dataset = [[\"Bread\", \"Milk\", \"Beer\"],\n",
    "           [\"Bread\", \"Diapers\", \"Eggs\"],\n",
    "           [\"Milk\", \"Diapers\", \"Beer\", \"Cola\"],\n",
    "           [\"Bread\", \"Milk\", \"Diapers\", \"Beer\"],\n",
    "           [\"Bread\", \"Milk\", \"Cola\"]]\n",
    "\n",
    "\n",
    "te = TransactionEncoder()\n",
    "te = te.fit(dataset) # Reading all unique items from dataset and creates dummy array\n",
    "te_ary = te.transform(dataset) # Converting blank array into filled array\n",
    "\n",
    "print(te.columns_)\n",
    "\n",
    "ItemCart=[]\n",
    "item=[te.columns_]\n",
    "\n",
    "df = pd.DataFrame(te_ary, columns = te.columns_)\n",
    "\n",
    "\n",
    "# Find frequency of itemsets\n",
    "frequent_itemsets = apriori(df, min_support = 0.4, use_colnames = True)\n",
    "frequent_itemsets\n",
    "\n",
    "rules = association_rules(frequent_itemsets, metric = \"support\", min_threshold = 0.6)\n",
    "rules"
   ]
  },
  {
   "cell_type": "code",
   "execution_count": null,
   "metadata": {},
   "outputs": [],
   "source": []
  },
  {
   "cell_type": "code",
   "execution_count": null,
   "metadata": {},
   "outputs": [],
   "source": [
    "['Beer', 'Bread', 'Cola', 'Diapers', 'Eggs', 'Milk']"
   ]
  },
  {
   "cell_type": "markdown",
   "metadata": {},
   "source": [
    "# Below is the answer for this assignment "
   ]
  },
  {
   "cell_type": "markdown",
   "metadata": {},
   "source": [
    "- copy the below code in python editor and just show them (students) the output."
   ]
  },
  {
   "cell_type": "code",
   "execution_count": 1,
   "metadata": {},
   "outputs": [
    {
     "name": "stdout",
     "output_type": "stream",
     "text": [
      "*******************\n",
      "Welcome to Eduvance Mart\n",
      "*******************\n",
      "Items available in mart are:\n",
      " ['Beer', 'Bread', 'Cola', 'Diapers', 'Eggs', 'Milk']\n",
      "Would you like to buy something? Press Y for Yes and N for No\n",
      "Milk\n",
      "Invalid key pressed\n",
      "Would you like to buy something? Press Y for Yes and N for No\n",
      "Y\n",
      "What would you like to buy?\n",
      "Milk\n",
      "Would you like to buy?\n",
      "[['Beer'], ['Bread']]\n",
      "Would you like to buy something? Press Y for Yes and N for No\n",
      "N\n",
      "You have purchased following\n",
      " ['Milk']\n",
      "Thank you for shopping with us!\n"
     ]
    }
   ],
   "source": [
    "# All import files here\n",
    "import pandas as pd\n",
    "from mlxtend.preprocessing import TransactionEncoder\n",
    "from mlxtend.frequent_patterns import apriori\n",
    "from mlxtend.frequent_patterns import association_rules\n",
    "\n",
    "dataset = [[\"Bread\", \"Milk\", \"Beer\"],\n",
    "            [\"Bread\", \"Diapers\", \"Eggs\"],\n",
    "            [\"Milk\", \"Diapers\", \"Beer\", \"Cola\"],\n",
    "            [\"Bread\", \"Milk\", \"Diapers\", \"Beer\"],\n",
    "            [\"Bread\", \"Milk\", \"Cola\"]]\n",
    "te = TransactionEncoder()\n",
    "te = te.fit(dataset)                    # Reads all unique items from the dataset\n",
    "te_ary = te.transform(dataset)          # Converts array into hot coded matrix\n",
    "# print(te_ary)\n",
    "# print(te.columns_)\n",
    "df = pd.DataFrame(te_ary, columns=te.columns_)     # Pandas dataframe\n",
    "# print(df)\n",
    "frequent_itemsets = apriori(df, min_support=0.4, use_colnames=True)\n",
    "# print(frequent_itemsets)\n",
    "rules=association_rules(frequent_itemsets, metric=\"support\", min_threshold=0.6)\n",
    "# print(rules)\n",
    "CartItem = []\n",
    "itemsav=te.columns_\n",
    "print(\"*******************\")\n",
    "print(\"Welcome to Eduvance Mart\")\n",
    "print(\"*******************\")\n",
    "print(\"Items available in mart are:\\n\",itemsav)\n",
    "while len(itemsav) is not 0:\n",
    "\tstatus=input(\"Would you like to buy something? Press Y for Yes and N for No\\n\")\n",
    "\tif status == 'Y':\n",
    "\t\titem=input(\"What would you like to buy?\\n\")\n",
    "\t\tif item in itemsav:\n",
    "\t\t\tCartItem.append(item)\n",
    "\t\t\titemsav.remove(item)\n",
    "\t\t\tnewrules=rules[rules[\"antecedents\"].apply(lambda x : set(CartItem).issubset(set(x)))]\n",
    "\t\t\tsugg=list(newrules[\"consequents\"])\n",
    "\t\t\tif len(sugg) is not 0:\n",
    "\t\t\t\tprint(\"Would you like to buy?\")\n",
    "\t\t\t\tprint([list(item) for item in sugg])\n",
    "\t\telse:\n",
    "\t\t\tprint(\"Sorry this item is not available. Please enter valid item.\\n\")\n",
    "\telif status == 'N':\n",
    "\t\tbreak\n",
    "\telse:\n",
    "\t\tprint(\"Invalid key pressed\")\n",
    "print(\"You have purchased following\\n\",CartItem)\n",
    "print(\"Thank you for shopping with us!\")\n"
   ]
  },
  {
   "cell_type": "code",
   "execution_count": null,
   "metadata": {},
   "outputs": [],
   "source": []
  },
  {
   "cell_type": "code",
   "execution_count": null,
   "metadata": {},
   "outputs": [],
   "source": []
  }
 ],
 "metadata": {
  "kernelspec": {
   "display_name": "Python 3",
   "language": "python",
   "name": "python3"
  },
  "language_info": {
   "codemirror_mode": {
    "name": "ipython",
    "version": 3
   },
   "file_extension": ".py",
   "mimetype": "text/x-python",
   "name": "python",
   "nbconvert_exporter": "python",
   "pygments_lexer": "ipython3",
   "version": "3.6.7"
  }
 },
 "nbformat": 4,
 "nbformat_minor": 4
}
