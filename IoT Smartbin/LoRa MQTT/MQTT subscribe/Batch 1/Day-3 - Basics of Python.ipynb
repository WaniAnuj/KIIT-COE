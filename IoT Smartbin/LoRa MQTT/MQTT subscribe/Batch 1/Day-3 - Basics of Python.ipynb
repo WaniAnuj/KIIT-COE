{
 "cells": [
  {
   "cell_type": "markdown",
   "metadata": {},
   "source": [
    "# Basics of Python (contd.)"
   ]
  },
  {
   "cell_type": "markdown",
   "metadata": {},
   "source": [
    "## Dictionaries"
   ]
  },
  {
   "cell_type": "markdown",
   "metadata": {},
   "source": [
    "Pair of {key : value}, unordered set"
   ]
  },
  {
   "cell_type": "markdown",
   "metadata": {},
   "source": [
    "- Creating and assessing elements"
   ]
  },
  {
   "cell_type": "code",
   "execution_count": null,
   "metadata": {},
   "outputs": [],
   "source": [
    "dict1 = {\"jan\":31, \"feb\":28, \"march\":31}\n",
    "print(dict1)\n",
    "print(type(dict1))\n",
    "\n",
    "print(dict1[\"jan\"]) #dictname[key] ---> value\n",
    "print(dict1[\"feb\"])\n",
    "#print(dict1[\"april\"])"
   ]
  },
  {
   "cell_type": "code",
   "execution_count": null,
   "metadata": {},
   "outputs": [],
   "source": [
    "dict1 = {\"jan\":31, \"feb\":28, \"march\":31, \"feb\":29}\n",
    "print(dict1)\n",
    "\n",
    "dict1 = {'1':'a','2':'b'}\n",
    "print(dict1)\n",
    "print(dict1['1'])"
   ]
  },
  {
   "cell_type": "markdown",
   "metadata": {},
   "source": [
    "- Updating a dictionary"
   ]
  },
  {
   "cell_type": "code",
   "execution_count": null,
   "metadata": {},
   "outputs": [],
   "source": [
    "dict1 = {\"jan\":31, \"feb\":28, \"march\":31}\n",
    "dict1[\"april\"] = 30\n",
    "print(dict1)\n",
    "\n",
    "dict1['feb'] = 29\n",
    "print(dict1)"
   ]
  },
  {
   "cell_type": "markdown",
   "metadata": {},
   "source": [
    "- Keys are unique and immutable (not changeable)"
   ]
  },
  {
   "cell_type": "code",
   "execution_count": null,
   "metadata": {},
   "outputs": [],
   "source": [
    "dict1 = {\"jan\":31, \"feb\":28, \"march\":31}\n",
    "dict1['april'] = [1,2,3,4]\n",
    "print(dict1)\n",
    "\n",
    "# dict2 = {[1,2,3,4]:\"april\"}\n",
    "# dict3 = {{\"jan\":31}:\"april\"}"
   ]
  },
  {
   "cell_type": "markdown",
   "metadata": {},
   "source": [
    "- Dictionary functions"
   ]
  },
  {
   "cell_type": "code",
   "execution_count": null,
   "metadata": {},
   "outputs": [],
   "source": [
    "dict1 = {\"jan\":31, \"feb\":28, \"march\":31}\n",
    "print(len(dict1))"
   ]
  },
  {
   "cell_type": "code",
   "execution_count": null,
   "metadata": {},
   "outputs": [],
   "source": [
    "print(dict1.get(\"jan\"))\n",
    "print(dict1.get(\"feb\"))\n",
    "print(dict1.get(\"april\"))\n",
    "print(dict1.get('march'))\n",
    "\n",
    "print(dict1.get(\"april\",30))\n",
    "print(dict1.get(\"jan\",\"Invalid\"))"
   ]
  },
  {
   "cell_type": "code",
   "execution_count": null,
   "metadata": {},
   "outputs": [],
   "source": [
    "print(dict1)\n",
    "print(dict1.items())\n",
    "print(type(dict1.items()))\n",
    "\n",
    "print(list(dict1.items()))\n",
    "print(type(list(dict1.items())))\n",
    "\n",
    "list1 = list(dict1.items())\n",
    "print(list1[0])"
   ]
  },
  {
   "cell_type": "code",
   "execution_count": null,
   "metadata": {},
   "outputs": [],
   "source": [
    "print(dict1)\n",
    "print(dict1.keys())\n",
    "\n",
    "print(list(dict1.keys()))"
   ]
  },
  {
   "cell_type": "code",
   "execution_count": null,
   "metadata": {},
   "outputs": [],
   "source": [
    "print(dict1)\n",
    "print(dict1.values())\n",
    "\n",
    "print(list(dict1.values()))"
   ]
  },
  {
   "cell_type": "code",
   "execution_count": null,
   "metadata": {},
   "outputs": [],
   "source": [
    "print(dict1)\n",
    "dict1.pop(\"jan\")\n",
    "print(dict1)\n",
    "dict1.pop(\"march\")\n",
    "print(dict1)"
   ]
  },
  {
   "cell_type": "code",
   "execution_count": null,
   "metadata": {},
   "outputs": [],
   "source": [
    "print(dict1)\n",
    "dict1.update({\"jan\":31,\"march\":31})\n",
    "print(dict1)"
   ]
  },
  {
   "cell_type": "code",
   "execution_count": null,
   "metadata": {},
   "outputs": [],
   "source": [
    "print(dict1)\n",
    "dict1.clear()\n",
    "print(dict1)"
   ]
  },
  {
   "cell_type": "markdown",
   "metadata": {},
   "source": [
    "## Tuples"
   ]
  },
  {
   "cell_type": "code",
   "execution_count": null,
   "metadata": {},
   "outputs": [],
   "source": [
    "tuple1 = (30,40,\"prathamesh\",4.56)\n",
    "print(tuple1)\n",
    "print(type(tuple1))\n",
    "\n",
    "tuple2 = (30)\n",
    "print(tuple2)\n",
    "print(type(tuple2))"
   ]
  },
  {
   "cell_type": "code",
   "execution_count": null,
   "metadata": {},
   "outputs": [],
   "source": [
    "print(tuple1[0])\n",
    "print(tuple1[2])\n",
    "print(tuple1[-1])\n",
    "\n",
    "print(tuple1[:2])\n",
    "print(tuple1[-2:])\n",
    "print(tuple1[::-1])"
   ]
  },
  {
   "cell_type": "code",
   "execution_count": null,
   "metadata": {},
   "outputs": [],
   "source": [
    "# tuple1[1] = 50\n",
    "\n",
    "# tuple1.append(50) # update,append,remove,insert are invalid"
   ]
  },
  {
   "cell_type": "markdown",
   "metadata": {},
   "source": [
    "## Loops"
   ]
  },
  {
   "cell_type": "markdown",
   "metadata": {},
   "source": [
    "- range"
   ]
  },
  {
   "cell_type": "code",
   "execution_count": null,
   "metadata": {},
   "outputs": [],
   "source": [
    "print(range(10))\n",
    "print(type(range(10)))\n",
    "\n",
    "print(list(range(10)))\n",
    "print(type(list(range(10))))\n",
    "\n",
    "print(range(2,11))\n",
    "print(list(range(2,11)))\n",
    "\n",
    "print(range(2,11,3))\n",
    "print(list(range(2,11,3)))\n",
    "\n",
    "#print(list(range(2,11,2.5)))"
   ]
  },
  {
   "cell_type": "code",
   "execution_count": null,
   "metadata": {},
   "outputs": [],
   "source": [
    "for everyItem in range(1,10):\n",
    "    print(everyItem)\n",
    "    \n",
    "for everyItem in range(1,10):\n",
    "    print(everyItem,end=' ')"
   ]
  },
  {
   "cell_type": "code",
   "execution_count": null,
   "metadata": {},
   "outputs": [],
   "source": [
    "print(\"prathamesh\",\"satardekar\", sep = '', end = '@')\n",
    "print('eduvance.in')"
   ]
  },
  {
   "cell_type": "code",
   "execution_count": null,
   "metadata": {},
   "outputs": [],
   "source": [
    "list1 = [1,4,'prathamesh',4.2]\n",
    "\n",
    "for element in list1:\n",
    "    print(element)\n",
    "    print(type(element))"
   ]
  },
  {
   "cell_type": "code",
   "execution_count": null,
   "metadata": {},
   "outputs": [],
   "source": [
    "for everyItem in list(range(1,10)):\n",
    "    if everyItem%2 == 0:\n",
    "        print(everyItem)\n",
    "    #print(\"********\",everyItem,\"**********\")"
   ]
  },
  {
   "cell_type": "code",
   "execution_count": null,
   "metadata": {},
   "outputs": [],
   "source": [
    "list1 = ['a','b','c','d']\n",
    "for item in range(len(list1)):\n",
    "    print(item)"
   ]
  },
  {
   "cell_type": "markdown",
   "metadata": {},
   "source": [
    "- while"
   ]
  },
  {
   "cell_type": "code",
   "execution_count": null,
   "metadata": {},
   "outputs": [],
   "source": [
    "num = 0\n",
    "while num<5:\n",
    "    print(\"Hello\")\n",
    "    num+=1     #num = num+1"
   ]
  },
  {
   "cell_type": "code",
   "execution_count": null,
   "metadata": {},
   "outputs": [],
   "source": [
    "list1 = [1,2,3,4,5]\n",
    "while len(list1)>0:\n",
    "    del list1[-1]\n",
    "    print(list1)"
   ]
  },
  {
   "cell_type": "markdown",
   "metadata": {},
   "source": [
    "## String functions"
   ]
  },
  {
   "cell_type": "markdown",
   "metadata": {},
   "source": [
    "- startswith, endswith"
   ]
  },
  {
   "cell_type": "code",
   "execution_count": null,
   "metadata": {},
   "outputs": [],
   "source": [
    "str1 = \"Cat apple mango dog\"\n",
    "\n",
    "print(str1.startswith('Cat'))\n",
    "print(str1.startswith('Catapple'))\n",
    "\n",
    "print(str1.startswith('cat'))\n",
    "\n",
    "print(str1.endswith('dog'))\n",
    "print(str1.endswith('godog'))\n",
    "\n",
    "if str1.startswith('Cat'):\n",
    "    print(\"Correct\")\n",
    "else:\n",
    "    print(\"Incorrect\")\n",
    "    \n",
    "if str1.endswith('godog'):\n",
    "    print(\"Correct\")\n",
    "else:\n",
    "    print(\"Incorrect\")"
   ]
  },
  {
   "cell_type": "code",
   "execution_count": null,
   "metadata": {},
   "outputs": [],
   "source": [
    "str1 = \"Cat apple mango dog\"\n",
    "print(str1.startswith(\"apple\",4))\n",
    "print(str1.startswith(\"apple\",4,13))"
   ]
  },
  {
   "cell_type": "code",
   "execution_count": null,
   "metadata": {},
   "outputs": [],
   "source": [
    "str1 = \"Cat apple mango dog\"\n",
    "print(str1.endswith(\"dog\",4))\n",
    "print(str1.endswith(\"dog\",4,19))"
   ]
  },
  {
   "cell_type": "markdown",
   "metadata": {},
   "source": [
    "- strip, lstrip, rstrip"
   ]
  },
  {
   "cell_type": "code",
   "execution_count": null,
   "metadata": {},
   "outputs": [],
   "source": [
    "str1 = \"0000000000Cat apple mango dog0000000000000\"\n",
    "print(str1)\n",
    "print(str1.strip('0'))\n",
    "print(str1.strip(' '))"
   ]
  },
  {
   "cell_type": "code",
   "execution_count": null,
   "metadata": {},
   "outputs": [],
   "source": [
    "str1 = \"0000000000Cat apple mango dog0000000000000\"\n",
    "print(str1.lstrip('0'))\n",
    "print(str1.lstrip('C'))\n",
    "\n",
    "print(str1.rstrip('0'))\n",
    "print(str1.rstrip('g'))"
   ]
  },
  {
   "cell_type": "markdown",
   "metadata": {},
   "source": [
    "- isupper, islower, upper, lower"
   ]
  },
  {
   "cell_type": "code",
   "execution_count": 4,
   "metadata": {},
   "outputs": [
    {
     "name": "stdout",
     "output_type": "stream",
     "text": [
      "True\n",
      "False\n",
      "False\n",
      "It is upper case\n"
     ]
    }
   ],
   "source": [
    "str1 = 'HELLO'\n",
    "str2 = 'hello'\n",
    "str3 = 'HEllo'\n",
    "\n",
    "print(str1.isupper())\n",
    "print(str2.isupper())\n",
    "print(str3.isupper())\n",
    "\n",
    "if str1.isupper():\n",
    "    print(\"It is upper case\")\n",
    "else:\n",
    "    print(\"It is not upper case\")"
   ]
  },
  {
   "cell_type": "code",
   "execution_count": 5,
   "metadata": {},
   "outputs": [
    {
     "name": "stdout",
     "output_type": "stream",
     "text": [
      "False\n",
      "True\n",
      "False\n",
      "It is not lower case\n"
     ]
    }
   ],
   "source": [
    "print(str1.islower())\n",
    "print(str2.islower())\n",
    "print(str3.islower())\n",
    "\n",
    "if str1.islower():\n",
    "    print(\"It is lower case\")\n",
    "else:\n",
    "    print(\"It is not lower case\")"
   ]
  },
  {
   "cell_type": "code",
   "execution_count": 6,
   "metadata": {},
   "outputs": [
    {
     "name": "stdout",
     "output_type": "stream",
     "text": [
      "It is mixed cases\n"
     ]
    }
   ],
   "source": [
    "if str3.isupper():\n",
    "    print(\"It is upper case\")\n",
    "elif str3.islower():\n",
    "    print(\"It is lower case\")\n",
    "else:\n",
    "    print(\"It is mixed cases\")"
   ]
  },
  {
   "cell_type": "code",
   "execution_count": 10,
   "metadata": {},
   "outputs": [
    {
     "name": "stdout",
     "output_type": "stream",
     "text": [
      "hello\n",
      "HELLO\n",
      "HEllo\n",
      "HELLO\n"
     ]
    }
   ],
   "source": [
    "print(str2)\n",
    "print(str2.upper())\n",
    "print(str3)\n",
    "print(str3.upper())"
   ]
  },
  {
   "cell_type": "code",
   "execution_count": 13,
   "metadata": {},
   "outputs": [
    {
     "name": "stdout",
     "output_type": "stream",
     "text": [
      "HELLO\n",
      "hello\n",
      "HEllo\n",
      "hello\n"
     ]
    }
   ],
   "source": [
    "print(str1)\n",
    "print(str1.lower())\n",
    "print(str3)\n",
    "print(str3.lower())"
   ]
  },
  {
   "cell_type": "code",
   "execution_count": 16,
   "metadata": {},
   "outputs": [
    {
     "name": "stdout",
     "output_type": "stream",
     "text": [
      "HELLO\n",
      "hello\n",
      "hello\n",
      "HELLO\n",
      "HEllo\n",
      "heLLO\n"
     ]
    }
   ],
   "source": [
    "print(str1)\n",
    "print(str1.swapcase())\n",
    "print(str2)\n",
    "print(str2.swapcase())\n",
    "print(str3)\n",
    "print(str3.swapcase())"
   ]
  },
  {
   "cell_type": "markdown",
   "metadata": {},
   "source": [
    "- replace, join, split"
   ]
  },
  {
   "cell_type": "code",
   "execution_count": 28,
   "metadata": {},
   "outputs": [
    {
     "name": "stdout",
     "output_type": "stream",
     "text": [
      "I love Python programming.\n",
      "I like Python programming.\n",
      "I love Python. I love programming. I just love everything!\n",
      "I love Python. I love programming. I just like everything!\n"
     ]
    }
   ],
   "source": [
    "oldstring = \"I like Python programming.\"\n",
    "newstring = oldstring.replace(\"like\", \"love\")\n",
    "print(newstring)\n",
    "\n",
    "newstring = oldstring.replace(\"dislike\", \"love\")\n",
    "print(newstring)\n",
    "\n",
    "oldstring = \"I like Python. I like programming. I just like everything!\"\n",
    "newstring = oldstring.replace(\"like\", \"love\")\n",
    "print(newstring)\n",
    "\n",
    "newstring = oldstring.replace(\"like\", \"love\", 2)\n",
    "print(newstring)"
   ]
  },
  {
   "cell_type": "code",
   "execution_count": 36,
   "metadata": {},
   "outputs": [
    {
     "name": "stdout",
     "output_type": "stream",
     "text": [
      "28-04-2020\n",
      "28/04/2020\n",
      "Prathamesh and Dilip and Vinay and Anuj and Jay\n"
     ]
    }
   ],
   "source": [
    "sep = '-'\n",
    "date = sep.join(('28','04','2020'))\n",
    "print(date)\n",
    "\n",
    "sep = '/'\n",
    "date = sep.join(['28','04','2020'])\n",
    "print(date)\n",
    "\n",
    "sep = \" and \"\n",
    "list1 = [\"Prathamesh\", \"Dilip\", \"Vinay\", \"Anuj\", \"Jay\"]\n",
    "names = sep.join(list1)\n",
    "print(names)"
   ]
  },
  {
   "cell_type": "code",
   "execution_count": 40,
   "metadata": {},
   "outputs": [
    {
     "name": "stdout",
     "output_type": "stream",
     "text": [
      "['cat', 'dog', 'monkey', 'deer']\n",
      "<class 'list'>\n",
      "['cat', 'dog', 'monkey,deer']\n"
     ]
    }
   ],
   "source": [
    "str1 = \"cat,dog,monkey,deer\"\n",
    "animals = str1.split(\",\")\n",
    "print(animals)\n",
    "print(type(animals))\n",
    "\n",
    "animals = str1.split(\",\",2)\n",
    "print(animals)"
   ]
  },
  {
   "cell_type": "code",
   "execution_count": null,
   "metadata": {},
   "outputs": [],
   "source": []
  },
  {
   "cell_type": "code",
   "execution_count": null,
   "metadata": {},
   "outputs": [],
   "source": []
  },
  {
   "cell_type": "code",
   "execution_count": null,
   "metadata": {},
   "outputs": [],
   "source": []
  }
 ],
 "metadata": {
  "kernelspec": {
   "display_name": "Python 3",
   "language": "python",
   "name": "python3"
  },
  "language_info": {
   "codemirror_mode": {
    "name": "ipython",
    "version": 3
   },
   "file_extension": ".py",
   "mimetype": "text/x-python",
   "name": "python",
   "nbconvert_exporter": "python",
   "pygments_lexer": "ipython3",
   "version": "3.6.7"
  }
 },
 "nbformat": 4,
 "nbformat_minor": 4
}
