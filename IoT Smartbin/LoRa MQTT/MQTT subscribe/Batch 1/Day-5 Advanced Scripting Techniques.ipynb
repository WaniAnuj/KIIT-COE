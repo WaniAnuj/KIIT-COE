{
 "cells": [
  {
   "cell_type": "markdown",
   "metadata": {},
   "source": [
    "# Advanced Scripting Techniques"
   ]
  },
  {
   "cell_type": "markdown",
   "metadata": {},
   "source": [
    "## Functions"
   ]
  },
  {
   "cell_type": "markdown",
   "metadata": {},
   "source": [
    "- creation"
   ]
  },
  {
   "cell_type": "code",
   "execution_count": 1,
   "metadata": {},
   "outputs": [],
   "source": [
    "def addition():\n",
    "    print(3+4)\n",
    "\n",
    "addition()"
   ]
  },
  {
   "cell_type": "markdown",
   "metadata": {},
   "source": [
    "- passing arguments"
   ]
  },
  {
   "cell_type": "code",
   "execution_count": 2,
   "metadata": {},
   "outputs": [
    {
     "name": "stdout",
     "output_type": "stream",
     "text": [
      "7\n"
     ]
    }
   ],
   "source": [
    "def addition(a,b):\n",
    "    print(a+b)\n",
    "\n",
    "addition(3,4)"
   ]
  },
  {
   "cell_type": "markdown",
   "metadata": {},
   "source": [
    "- return type"
   ]
  },
  {
   "cell_type": "code",
   "execution_count": 3,
   "metadata": {},
   "outputs": [
    {
     "name": "stdout",
     "output_type": "stream",
     "text": [
      "7\n"
     ]
    }
   ],
   "source": [
    "def addition(a,b):\n",
    "    # print(\"Welome inside function\")\n",
    "    return a+b\n",
    "\n",
    "answer = addition(3,4)\n",
    "print(answer)"
   ]
  },
  {
   "cell_type": "markdown",
   "metadata": {},
   "source": [
    "- fixed argument"
   ]
  },
  {
   "cell_type": "code",
   "execution_count": 4,
   "metadata": {},
   "outputs": [
    {
     "name": "stdout",
     "output_type": "stream",
     "text": [
      "7\n",
      "9\n"
     ]
    }
   ],
   "source": [
    "def addition(a,b=6):\n",
    "    return a+b\n",
    "\n",
    "answer = addition(3,4)\n",
    "print(answer)\n",
    "answer = addition(3)\n",
    "print(answer)"
   ]
  },
  {
   "cell_type": "markdown",
   "metadata": {},
   "source": [
    "- local and global variables"
   ]
  },
  {
   "cell_type": "code",
   "execution_count": 5,
   "metadata": {},
   "outputs": [
    {
     "name": "stdout",
     "output_type": "stream",
     "text": [
      "Value of sum1 is 0\n",
      "Value of sum1 is 7\n",
      "Value of sum1 is 0\n",
      "Value of sum2 is 7\n"
     ]
    }
   ],
   "source": [
    "sum1 = 0                                       # sum1 is global variable here\n",
    "print(\"Value of sum1 is {0}\".format(sum1))\n",
    "\n",
    "def addition(a,b):\n",
    "    sum1 = a+b                                 # sum1 is local variable here\n",
    "    print(\"Value of sum1 is {0}\".format(sum1)) \n",
    "    return sum1\n",
    "\n",
    "sum2 = addition(3,4)\n",
    "# sum1 +=1\n",
    "print(\"Value of sum1 is {0}\".format(sum1))\n",
    "print(\"Value of sum2 is {0}\".format(sum2))"
   ]
  },
  {
   "cell_type": "markdown",
   "metadata": {},
   "source": [
    "- *args and **kwargs"
   ]
  },
  {
   "cell_type": "code",
   "execution_count": 6,
   "metadata": {},
   "outputs": [
    {
     "name": "stdout",
     "output_type": "stream",
     "text": [
      "23\n"
     ]
    }
   ],
   "source": [
    "def addition(*args):\n",
    "    #print(args)\n",
    "    #print(type(args))\n",
    "    s=0\n",
    "    for i in args:\n",
    "        s+=i  #s=s+i\n",
    "    print(s)\n",
    "    \n",
    "# addition(3,4)\n",
    "# addition(3,4,6)\n",
    "addition(3,4,7,9)"
   ]
  },
  {
   "cell_type": "code",
   "execution_count": 7,
   "metadata": {},
   "outputs": [
    {
     "name": "stdout",
     "output_type": "stream",
     "text": [
      "name prathamesh\n",
      "sport cricket\n",
      "Oh! You are a cricket lover!\n",
      "roll 67\n",
      "name anuj\n",
      "sport football\n"
     ]
    }
   ],
   "source": [
    "def myfunction(**kwargs):\n",
    "    #print(kwargs)\n",
    "    #print(type(kwargs))\n",
    "    #print(kwargs.items())\n",
    "    for i,j in kwargs.items():\n",
    "        print(i,j)\n",
    "        if j == 'cricket':\n",
    "            print(\"Oh! You are a cricket lover!\")\n",
    "\n",
    "myfunction(name = 'prathamesh', sport = 'cricket', roll = 67)\n",
    "\n",
    "myfunction(name = 'anuj', sport = 'football')"
   ]
  },
  {
   "cell_type": "markdown",
   "metadata": {},
   "source": [
    "## List comprehension "
   ]
  },
  {
   "cell_type": "code",
   "execution_count": 8,
   "metadata": {},
   "outputs": [
    {
     "name": "stdout",
     "output_type": "stream",
     "text": [
      "[0, 1, 4, 9, 16, 25, 36, 49, 64, 81]\n",
      "[0, 1, 4, 9, 16, 25, 36, 49, 64, 81]\n"
     ]
    }
   ],
   "source": [
    "# function or loop method\n",
    "squares = []\n",
    "for i in range(10):\n",
    "    squares.append(i**2)\n",
    "print(squares)\n",
    "\n",
    "# list comprehension method\n",
    "squares = [i**2 for i in range(10)] # [return for loop with iterator]\n",
    "print(squares)"
   ]
  },
  {
   "cell_type": "code",
   "execution_count": 9,
   "metadata": {},
   "outputs": [
    {
     "name": "stdout",
     "output_type": "stream",
     "text": [
      "[0, 9, 36, 81]\n"
     ]
    }
   ],
   "source": [
    "squares = [i**2 for i in range(10) if i%3==0] # [return for loop with iterator condition only if condition allowed]\n",
    "print(squares)"
   ]
  },
  {
   "cell_type": "code",
   "execution_count": 10,
   "metadata": {},
   "outputs": [
    {
     "name": "stdout",
     "output_type": "stream",
     "text": [
      "[0, 2, 4, 6, 8]\n",
      "[1, 3, 5, 7, 9]\n"
     ]
    }
   ],
   "source": [
    "# code to print list of even numbers from range(10)\n",
    "evens = [i for i in range(10) if i%2==0]\n",
    "print(evens)\n",
    "# code to print list of odd numbers from range(10)\n",
    "odds = [i for i in range(10) if i%2!=0]\n",
    "print(odds)"
   ]
  },
  {
   "cell_type": "code",
   "execution_count": 11,
   "metadata": {},
   "outputs": [
    {
     "name": "stdout",
     "output_type": "stream",
     "text": [
      "['prathamesh', 'dilip', 'anuj', 'vinay', 'jay']\n"
     ]
    }
   ],
   "source": [
    "list1 = ['Prathamesh','Dilip','Anuj','Vinay','Jay']\n",
    "list2 = [x.lower() for x in list1]\n",
    "print(list2)"
   ]
  },
  {
   "cell_type": "code",
   "execution_count": 12,
   "metadata": {},
   "outputs": [
    {
     "name": "stdout",
     "output_type": "stream",
     "text": [
      "[[1, 2], [1, 3], [1, 4], [2, 3], [2, 4], [3, 2], [3, 4]]\n"
     ]
    }
   ],
   "source": [
    "uniquelist = [[x,y] for x in [1,2,3] for y in [2,3,4] if x!=y]\n",
    "print(uniquelist)"
   ]
  },
  {
   "cell_type": "code",
   "execution_count": 13,
   "metadata": {},
   "outputs": [
    {
     "name": "stdout",
     "output_type": "stream",
     "text": [
      "[(1, 2), (1, 3), (1, 4), (2, 3), (2, 4), (3, 2), (3, 4)]\n"
     ]
    }
   ],
   "source": [
    "uniquelist = [(x,y) for x in [1,2,3] for y in [2,3,4] if x!=y]\n",
    "print(uniquelist)"
   ]
  },
  {
   "cell_type": "code",
   "execution_count": 14,
   "metadata": {},
   "outputs": [
    {
     "name": "stdout",
     "output_type": "stream",
     "text": [
      "[{1: 2}, {1: 3}, {1: 4}, {2: 3}, {2: 4}, {3: 2}, {3: 4}]\n"
     ]
    }
   ],
   "source": [
    "uniquelist = [{x:y} for x in [1,2,3] for y in [2,3,4] if x!=y]\n",
    "print(uniquelist)"
   ]
  },
  {
   "cell_type": "markdown",
   "metadata": {},
   "source": [
    "## Generator expression"
   ]
  },
  {
   "cell_type": "code",
   "execution_count": 15,
   "metadata": {},
   "outputs": [
    {
     "name": "stdout",
     "output_type": "stream",
     "text": [
      "[0, 1, 4, 9, 16, 25, 36, 49, 64, 81]\n",
      "<generator object <genexpr> at 0x0000027C93885E60>\n",
      "192\n",
      "88\n",
      "0\n",
      "1\n",
      "4\n",
      "9\n",
      "16\n",
      "25\n",
      "36\n",
      "49\n",
      "64\n",
      "81\n"
     ]
    }
   ],
   "source": [
    "from sys import getsizeof\n",
    "\n",
    "# list comprehension method\n",
    "squares = [i**2 for i in range(10)]\n",
    "print(squares)\n",
    "\n",
    "# generator expression\n",
    "squares_gen = (i**2 for i in range(10))\n",
    "print(squares_gen)\n",
    "\n",
    "print(getsizeof(squares))\n",
    "print(getsizeof(squares_gen))\n",
    "\n",
    "for i in squares_gen:\n",
    "    print(i)"
   ]
  },
  {
   "cell_type": "markdown",
   "metadata": {},
   "source": [
    "## Lambda, map, filter functions"
   ]
  },
  {
   "cell_type": "code",
   "execution_count": 16,
   "metadata": {},
   "outputs": [
    {
     "name": "stdout",
     "output_type": "stream",
     "text": [
      "7\n",
      "7\n",
      "9\n"
     ]
    }
   ],
   "source": [
    "# normal function\n",
    "def addition(x,y):\n",
    "    return x+y\n",
    "result = addition(3,4)\n",
    "print(result)\n",
    "\n",
    "# lambda function\n",
    "result = lambda x,y : x+y # lambda variables : operation/return\n",
    "print(result(3,4))\n",
    "\n",
    "result = lambda x: x**2\n",
    "print(result(3))"
   ]
  },
  {
   "cell_type": "code",
   "execution_count": 17,
   "metadata": {},
   "outputs": [
    {
     "name": "stdout",
     "output_type": "stream",
     "text": [
      "[0, 1, 4, 9, 16, 25, 36, 49, 64, 81]\n"
     ]
    }
   ],
   "source": [
    "print(list(map(lambda x: x**2,range(10)))) # function, iterator"
   ]
  },
  {
   "cell_type": "code",
   "execution_count": 18,
   "metadata": {},
   "outputs": [
    {
     "name": "stdout",
     "output_type": "stream",
     "text": [
      "[1, 9, 49, 81]\n"
     ]
    }
   ],
   "source": [
    "print(list(map(lambda x: x**2,[1,3,7,9])))"
   ]
  },
  {
   "cell_type": "code",
   "execution_count": 19,
   "metadata": {},
   "outputs": [
    {
     "name": "stdout",
     "output_type": "stream",
     "text": [
      "[6, 7, 8, 9]\n"
     ]
    }
   ],
   "source": [
    "print(list(filter(lambda x: x>5,range(10))))"
   ]
  },
  {
   "cell_type": "code",
   "execution_count": 20,
   "metadata": {},
   "outputs": [
    {
     "name": "stdout",
     "output_type": "stream",
     "text": [
      "[1, 3, 5, 7, 9]\n"
     ]
    }
   ],
   "source": [
    "# print only odd numbers using lambda filter\n",
    "print(list(filter(lambda x: x%2!=0, range(10))))"
   ]
  },
  {
   "cell_type": "markdown",
   "metadata": {},
   "source": [
    "## File I/O Operations"
   ]
  },
  {
   "cell_type": "code",
   "execution_count": 21,
   "metadata": {},
   "outputs": [
    {
     "name": "stdout",
     "output_type": "stream",
     "text": [
      "example.txt\n"
     ]
    }
   ],
   "source": [
    "fo=open('example.txt','r')\n",
    "print(fo.name)\n",
    "fo.close()"
   ]
  },
  {
   "cell_type": "code",
   "execution_count": 22,
   "metadata": {},
   "outputs": [
    {
     "name": "stdout",
     "output_type": "stream",
     "text": [
      "example.txt\n"
     ]
    }
   ],
   "source": [
    "fo=open('example.txt','w')\n",
    "print(fo.name)\n",
    "fo.close()"
   ]
  },
  {
   "cell_type": "code",
   "execution_count": 23,
   "metadata": {},
   "outputs": [
    {
     "name": "stdout",
     "output_type": "stream",
     "text": [
      "example.txt\n",
      "r\n",
      "False\n",
      "True\n"
     ]
    }
   ],
   "source": [
    "fo=open('example.txt','r')\n",
    "print(fo.name)\n",
    "print(fo.mode)\n",
    "print(fo.closed)\n",
    "fo.close()\n",
    "print(fo.closed)"
   ]
  },
  {
   "cell_type": "code",
   "execution_count": 24,
   "metadata": {},
   "outputs": [],
   "source": [
    "fo=open('example.txt','w')\n",
    "fo.write(\"This is my first statement.\\nThis is my second line.\")\n",
    "fo.close()"
   ]
  },
  {
   "cell_type": "code",
   "execution_count": 25,
   "metadata": {},
   "outputs": [
    {
     "name": "stdout",
     "output_type": "stream",
     "text": [
      "This is my first statement.\n",
      "This is my second line.\n",
      "<class 'str'>\n"
     ]
    }
   ],
   "source": [
    "fo=open('example.txt','r')\n",
    "text = fo.read()\n",
    "print(text)\n",
    "print(type(text))\n",
    "fo.close()"
   ]
  },
  {
   "cell_type": "code",
   "execution_count": 26,
   "metadata": {},
   "outputs": [
    {
     "name": "stdout",
     "output_type": "stream",
     "text": [
      "This is my\n"
     ]
    }
   ],
   "source": [
    "fo=open('example.txt','r')\n",
    "text = fo.read(10)\n",
    "print(text)\n",
    "fo.close()"
   ]
  },
  {
   "cell_type": "code",
   "execution_count": 27,
   "metadata": {},
   "outputs": [
    {
     "name": "stdout",
     "output_type": "stream",
     "text": [
      "['This is my first statement.\\n', 'This is my second line.']\n",
      "<class 'list'>\n"
     ]
    }
   ],
   "source": [
    "fo=open('example.txt','r')\n",
    "text = fo.readlines()\n",
    "print(text)\n",
    "print(type(text))\n",
    "fo.close()"
   ]
  },
  {
   "cell_type": "code",
   "execution_count": 28,
   "metadata": {},
   "outputs": [
    {
     "name": "stdout",
     "output_type": "stream",
     "text": [
      "This is my first statement.\n",
      "\n",
      "<class 'str'>\n",
      "This is my second line.\n"
     ]
    }
   ],
   "source": [
    "fo=open('example.txt','r')\n",
    "text = fo.readline()\n",
    "print(text)\n",
    "print(type(text))\n",
    "text2 = fo.readline()\n",
    "print(text2)\n",
    "fo.close()"
   ]
  },
  {
   "cell_type": "code",
   "execution_count": 29,
   "metadata": {},
   "outputs": [],
   "source": [
    "fo=open('example.txt','a')\n",
    "fo.write(\"\\nThis is my third sentence.\")\n",
    "fo.close()"
   ]
  },
  {
   "cell_type": "code",
   "execution_count": 30,
   "metadata": {},
   "outputs": [
    {
     "name": "stdout",
     "output_type": "stream",
     "text": [
      "This is my first statement.\n",
      "This is my second line.\n",
      "This is my third sentence.\n"
     ]
    }
   ],
   "source": [
    "fo=open('example.txt','r')\n",
    "text = fo.read()\n",
    "print(text)\n",
    "fo.close()"
   ]
  },
  {
   "cell_type": "raw",
   "metadata": {},
   "source": [
    "Text file modes -- r,w,a,r+,w+,a+\n",
    "Binary file modes -----rb,wb,ab,rb+,wb+,ab+"
   ]
  },
  {
   "cell_type": "markdown",
   "metadata": {},
   "source": [
    "## Exception Handling"
   ]
  },
  {
   "cell_type": "code",
   "execution_count": 31,
   "metadata": {},
   "outputs": [
    {
     "name": "stdout",
     "output_type": "stream",
     "text": [
      "Hello World!\n"
     ]
    },
    {
     "ename": "TypeError",
     "evalue": "unsupported operand type(s) for +: 'int' and 'str'",
     "output_type": "error",
     "traceback": [
      "\u001b[1;31m---------------------------------------------------------------------------\u001b[0m",
      "\u001b[1;31mTypeError\u001b[0m                                 Traceback (most recent call last)",
      "\u001b[1;32m<ipython-input-31-c27db2a16072>\u001b[0m in \u001b[0;36m<module>\u001b[1;34m\u001b[0m\n\u001b[0;32m      1\u001b[0m \u001b[0mprint\u001b[0m\u001b[1;33m(\u001b[0m\u001b[1;34m\"Hello World!\"\u001b[0m\u001b[1;33m)\u001b[0m\u001b[1;33m\u001b[0m\u001b[1;33m\u001b[0m\u001b[0m\n\u001b[1;32m----> 2\u001b[1;33m \u001b[0mprint\u001b[0m\u001b[1;33m(\u001b[0m\u001b[1;36m2\u001b[0m\u001b[1;33m+\u001b[0m\u001b[1;34m\"2\"\u001b[0m\u001b[1;33m)\u001b[0m\u001b[1;33m\u001b[0m\u001b[1;33m\u001b[0m\u001b[0m\n\u001b[0m\u001b[0;32m      3\u001b[0m \u001b[0mprint\u001b[0m\u001b[1;33m(\u001b[0m\u001b[1;34m\"Hello again!\"\u001b[0m\u001b[1;33m)\u001b[0m\u001b[1;33m\u001b[0m\u001b[1;33m\u001b[0m\u001b[0m\n",
      "\u001b[1;31mTypeError\u001b[0m: unsupported operand type(s) for +: 'int' and 'str'"
     ]
    }
   ],
   "source": [
    "print(\"Hello World!\")\n",
    "print(2+\"2\")\n",
    "print(\"Hello again!\")"
   ]
  },
  {
   "cell_type": "markdown",
   "metadata": {},
   "source": [
    "- try, except, else, finally"
   ]
  },
  {
   "cell_type": "code",
   "execution_count": 32,
   "metadata": {},
   "outputs": [
    {
     "name": "stdout",
     "output_type": "stream",
     "text": [
      "Hello World!\n",
      "4\n",
      "No error found. Prefect code.\n",
      "Done with this execution.\n"
     ]
    }
   ],
   "source": [
    "try:\n",
    "    print(\"Hello World!\")\n",
    "    print(2+2)\n",
    "except TypeError:\n",
    "    print(\"Type error found. Rectified.\")\n",
    "    print(2+2)\n",
    "else:\n",
    "    print(\"No error found. Prefect code.\")\n",
    "finally:\n",
    "    print(\"Done with this execution.\")"
   ]
  },
  {
   "cell_type": "code",
   "execution_count": 33,
   "metadata": {},
   "outputs": [
    {
     "name": "stdout",
     "output_type": "stream",
     "text": [
      "\n"
     ]
    }
   ],
   "source": [
    "try:\n",
    "    fo=open('example3.txt','r')\n",
    "    text = fo.read()\n",
    "    print(text)\n",
    "    fo.close()\n",
    "except FileNotFoundError:\n",
    "    print(\"No such file exists. Creating new file with this name.\")\n",
    "    fo=open('example3.txt','w')\n",
    "    fo.close()"
   ]
  },
  {
   "cell_type": "code",
   "execution_count": 34,
   "metadata": {},
   "outputs": [
    {
     "name": "stdout",
     "output_type": "stream",
     "text": [
      "Can't divide by zero\n"
     ]
    }
   ],
   "source": [
    "try:\n",
    "    val = 4/0\n",
    "except ZeroDivisionError:\n",
    "    print(\"Can't divide by zero\")\n",
    "else:\n",
    "    print(\"Division completed\")\n",
    "    print(val)"
   ]
  },
  {
   "cell_type": "markdown",
   "metadata": {},
   "source": [
    "- multiple exceptions"
   ]
  },
  {
   "cell_type": "code",
   "execution_count": 35,
   "metadata": {},
   "outputs": [
    {
     "name": "stdout",
     "output_type": "stream",
     "text": [
      "Start calculations\n",
      "Unknown error. Please check its type.\n"
     ]
    }
   ],
   "source": [
    "try:\n",
    "    print(\"Start calculations\")\n",
    "    fo=file.open('file.txt','r')\n",
    "    print(2+2)\n",
    "    print(2/0)\n",
    "except TypeError:\n",
    "    print(\"Type error found. Rectified.\")\n",
    "    print(2+2)\n",
    "except ZeroDivisionError:\n",
    "    print(\"Division error found. Proper user input required.\")\n",
    "except:\n",
    "    print(\"Unknown error. Please check its type.\")"
   ]
  },
  {
   "cell_type": "code",
   "execution_count": 36,
   "metadata": {},
   "outputs": [
    {
     "name": "stdout",
     "output_type": "stream",
     "text": [
      "Start calculations\n",
      "4\n",
      "Error found. Rectified.\n"
     ]
    }
   ],
   "source": [
    "try:\n",
    "    print(\"Start calculations\")\n",
    "    print(2+2)\n",
    "    print(2/0)\n",
    "except (TypeError, ZeroDivisionError):\n",
    "    print(\"Error found. Rectified.\")"
   ]
  },
  {
   "cell_type": "markdown",
   "metadata": {},
   "source": [
    "ValueError, AttributeError, KeyError, IndexError, KeyboardInterrupt, MemoryError, OSError, SystaxError, IndentationError"
   ]
  },
  {
   "cell_type": "code",
   "execution_count": null,
   "metadata": {},
   "outputs": [],
   "source": []
  },
  {
   "cell_type": "code",
   "execution_count": null,
   "metadata": {},
   "outputs": [],
   "source": []
  },
  {
   "cell_type": "code",
   "execution_count": null,
   "metadata": {},
   "outputs": [],
   "source": []
  }
 ],
 "metadata": {
  "kernelspec": {
   "display_name": "Python 3",
   "language": "python",
   "name": "python3"
  },
  "language_info": {
   "codemirror_mode": {
    "name": "ipython",
    "version": 3
   },
   "file_extension": ".py",
   "mimetype": "text/x-python",
   "name": "python",
   "nbconvert_exporter": "python",
   "pygments_lexer": "ipython3",
   "version": "3.6.7"
  }
 },
 "nbformat": 4,
 "nbformat_minor": 4
}
