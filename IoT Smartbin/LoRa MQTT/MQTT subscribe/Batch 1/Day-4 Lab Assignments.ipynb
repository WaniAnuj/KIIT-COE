{
 "cells": [
  {
   "cell_type": "markdown",
   "metadata": {},
   "source": [
    "# Lab Assignments 8-17"
   ]
  },
  {
   "cell_type": "markdown",
   "metadata": {},
   "source": [
    "### LA-8 Chess position colour check"
   ]
  },
  {
   "cell_type": "markdown",
   "metadata": {},
   "source": [
    "Write a program to find the colour at a particular position on chess board. Refer image of chess board. The chess positions at A1,A3,A5,B2,B4, etc. are black positions and A2,A4,A6,B1,B3, etc. are white positions.\n",
    "If user enters “e7” and it should print “black position”"
   ]
  },
  {
   "cell_type": "raw",
   "metadata": {},
   "source": [
    "enter chess position: B2\n",
    "black position\n",
    "\n",
    "1 - nothing like Z4 (A-H)\n",
    "2 - nothing like A0 or A9 (1-8)\n",
    "3 - nothing like A99 or AA9 (2 char string, 1st one is character, 2nd one is number)"
   ]
  },
  {
   "cell_type": "markdown",
   "metadata": {},
   "source": [
    "### LA-9  Palindrome check"
   ]
  },
  {
   "cell_type": "markdown",
   "metadata": {},
   "source": [
    "Accept a string from the user and check if it is a palindrome or not."
   ]
  },
  {
   "cell_type": "markdown",
   "metadata": {},
   "source": [
    "### LA-10 Factorial calculation"
   ]
  },
  {
   "cell_type": "markdown",
   "metadata": {},
   "source": [
    "Accept a number from the user and calculate the factorial of the number."
   ]
  },
  {
   "cell_type": "code",
   "execution_count": null,
   "metadata": {},
   "outputs": [],
   "source": [
    "5! = 5 * 4! = 5*4*3!\n",
    "\n",
    "enter the number: 5\n",
    "factorial of 5 is: 120\n",
    "    \n",
    "avoid negative numbers"
   ]
  },
  {
   "cell_type": "markdown",
   "metadata": {},
   "source": [
    "### LA-11 Number format change"
   ]
  },
  {
   "cell_type": "raw",
   "metadata": {},
   "source": [
    "Accept a decimal number from the user and print the equivalent binary, octal and hexadecimal number using functions.\n",
    "\n",
    "Decimal ---- 0 - 9\n",
    "Binary ----- 0,1\n",
    "Hexadecimal ------ 0-9,A,B,C,D,E,F\n",
    "\n",
    "Enter decimal number: 16\n",
    "Binary of decimal number 16 is: 10000\n",
    "Hexadecimal off decimal number is: 10\n",
    "\n",
    "USER INPUT / BASE\n",
    "\n",
    "REMAINDER = PART OF ANSWER (STORE REMAINDER)\n",
    "QUOTIENT = REPEAT ABOVE DIVISION"
   ]
  },
  {
   "cell_type": "markdown",
   "metadata": {},
   "source": [
    "### LA-12 Dictionary of cubes"
   ]
  },
  {
   "cell_type": "markdown",
   "metadata": {},
   "source": [
    "Accept a number from the user and create a dictionary of all numbers starting from 1 and store the number and its cube in a dictionary. Print all the cubes in dictionary."
   ]
  },
  {
   "cell_type": "code",
   "execution_count": null,
   "metadata": {},
   "outputs": [],
   "source": [
    "(you have to create a dictionary {1:cube of 1, 2: cube of 2, 3: cube of 3})\n",
    "\n",
    "Enter the number: 3\n",
    "print dictionary\n",
    "print only the cubes the dictionary\n",
    "\n",
    "no not allow negative numbers"
   ]
  },
  {
   "cell_type": "markdown",
   "metadata": {},
   "source": [
    "### LA-13 Phonebook number check"
   ]
  },
  {
   "cell_type": "markdown",
   "metadata": {},
   "source": [
    "Create a phonebook by taking N names and phone number from input, store as dict of (name,number). Then ask user to enter a number and print the name of person aftering searching for the number."
   ]
  },
  {
   "cell_type": "code",
   "execution_count": null,
   "metadata": {},
   "outputs": [],
   "source": [
    "How many contacts? 2\n",
    "Enter name1 : Prathamesh\n",
    "Enter number1 : 1234567890\n",
    "Enter name2: Dilip\n",
    "Enter number2: 9876543210\n",
    "\n",
    "(key,value ----- name,number)\n",
    "\n",
    "Enter number you want to search: 123456\n",
    "This number doesn't exist in phonebook."
   ]
  },
  {
   "cell_type": "markdown",
   "metadata": {},
   "source": [
    "### LA-14 Guess-the-number game"
   ]
  },
  {
   "cell_type": "markdown",
   "metadata": {},
   "source": [
    "A user gets 3 chances to identify a number. Once a number is pressed, it should print if the input number is in near range or far range. If the number is identified, print winning statement. The total range of numbers is 0 to 10. The near range is +-3 numbers."
   ]
  },
  {
   "cell_type": "code",
   "execution_count": 10,
   "metadata": {},
   "outputs": [
    {
     "name": "stdout",
     "output_type": "stream",
     "text": [
      "2\n"
     ]
    }
   ],
   "source": [
    "import random\n",
    "\n",
    "num = random.randint(0,10)\n",
    "# print(num)\n",
    "\n",
    "guess the number? 7\n",
    "Far range\n",
    "Guess the number? 4\n",
    "Near range\n",
    "Guess the number? 3\n",
    "Congrats, you have won! or Sorry, you lost. Please try again."
   ]
  },
  {
   "cell_type": "markdown",
   "metadata": {},
   "source": [
    "### LA-15 Password assignment "
   ]
  },
  {
   "cell_type": "markdown",
   "metadata": {},
   "source": [
    "Write a program to check the validity of password and assign it to the user.\n",
    "Following are the criteria for checking the password:\n",
    "1. At least 1 small and 1 capital letter\n",
    "2. At least 1 number\n",
    "3. At least 1 special character\n",
    "4. Minimum and maximum length of password is 6 and 12 respectively.\n",
    "Your program should accept a username from user and check if it present in the predeclared list. If it is  present, ask user for a password, assign it after checking validity and store it as a dictionary of username, password pair."
   ]
  },
  {
   "cell_type": "code",
   "execution_count": null,
   "metadata": {},
   "outputs": [],
   "source": [
    "dict1 = {\"prathamesh\": \"1234\",....}\n",
    "\n",
    "Enter username: prathamesh\n",
    "Enter password: Abcd@1234\n",
    "\n",
    "uPDATE DICTIONARY, PRINT DICTIONARY"
   ]
  },
  {
   "cell_type": "code",
   "execution_count": null,
   "metadata": {},
   "outputs": [],
   "source": []
  },
  {
   "cell_type": "code",
   "execution_count": null,
   "metadata": {},
   "outputs": [],
   "source": []
  },
  {
   "cell_type": "code",
   "execution_count": null,
   "metadata": {},
   "outputs": [],
   "source": []
  },
  {
   "cell_type": "code",
   "execution_count": null,
   "metadata": {},
   "outputs": [],
   "source": []
  }
 ],
 "metadata": {
  "kernelspec": {
   "display_name": "Python 3",
   "language": "python",
   "name": "python3"
  },
  "language_info": {
   "codemirror_mode": {
    "name": "ipython",
    "version": 3
   },
   "file_extension": ".py",
   "mimetype": "text/x-python",
   "name": "python",
   "nbconvert_exporter": "python",
   "pygments_lexer": "ipython3",
   "version": "3.6.7"
  }
 },
 "nbformat": 4,
 "nbformat_minor": 2
}
