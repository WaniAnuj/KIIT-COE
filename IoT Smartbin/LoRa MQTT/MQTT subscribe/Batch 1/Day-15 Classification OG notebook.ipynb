{
 "cells": [
  {
   "cell_type": "markdown",
   "metadata": {},
   "source": [
    "# Classification"
   ]
  },
  {
   "cell_type": "markdown",
   "metadata": {},
   "source": [
    "## Perceptron"
   ]
  },
  {
   "cell_type": "code",
   "execution_count": 3,
   "metadata": {},
   "outputs": [
    {
     "data": {
      "text/html": [
       "<div>\n",
       "<style scoped>\n",
       "    .dataframe tbody tr th:only-of-type {\n",
       "        vertical-align: middle;\n",
       "    }\n",
       "\n",
       "    .dataframe tbody tr th {\n",
       "        vertical-align: top;\n",
       "    }\n",
       "\n",
       "    .dataframe thead th {\n",
       "        text-align: right;\n",
       "    }\n",
       "</style>\n",
       "<table border=\"1\" class=\"dataframe\">\n",
       "  <thead>\n",
       "    <tr style=\"text-align: right;\">\n",
       "      <th></th>\n",
       "      <th>sleep_proportion</th>\n",
       "      <th>grumpy_proportion</th>\n",
       "      <th>prediction</th>\n",
       "    </tr>\n",
       "  </thead>\n",
       "  <tbody>\n",
       "    <tr>\n",
       "      <th>0</th>\n",
       "      <td>0.2</td>\n",
       "      <td>0.1</td>\n",
       "      <td>kitten</td>\n",
       "    </tr>\n",
       "    <tr>\n",
       "      <th>1</th>\n",
       "      <td>0.4</td>\n",
       "      <td>0.6</td>\n",
       "      <td>kitten</td>\n",
       "    </tr>\n",
       "    <tr>\n",
       "      <th>2</th>\n",
       "      <td>0.5</td>\n",
       "      <td>0.2</td>\n",
       "      <td>kitten</td>\n",
       "    </tr>\n",
       "    <tr>\n",
       "      <th>3</th>\n",
       "      <td>0.7</td>\n",
       "      <td>0.9</td>\n",
       "      <td>adult</td>\n",
       "    </tr>\n",
       "  </tbody>\n",
       "</table>\n",
       "</div>"
      ],
      "text/plain": [
       "   sleep_proportion  grumpy_proportion prediction\n",
       "0               0.2                0.1     kitten\n",
       "1               0.4                0.6     kitten\n",
       "2               0.5                0.2     kitten\n",
       "3               0.7                0.9      adult"
      ]
     },
     "execution_count": 3,
     "metadata": {},
     "output_type": "execute_result"
    }
   ],
   "source": [
    "import pandas as pd\n",
    "import matplotlib.pyplot as plt\n",
    "%matplotlib inline\n",
    "\n",
    "df = pd.DataFrame({'sleep_proportion':[0.2, 0.4, 0.5, 0.7], \n",
    "                   'grumpy_proportion':[0.1, 0.6, 0.2, 0.9], \n",
    "                   'prediction':['kitten', 'kitten', \n",
    "                                 'kitten', 'adult']})\n",
    "df.head()"
   ]
  },
  {
   "cell_type": "code",
   "execution_count": 4,
   "metadata": {},
   "outputs": [
    {
     "name": "stdout",
     "output_type": "stream",
     "text": [
      "   sleep_proportion  grumpy_proportion prediction\n",
      "0               0.2                0.1     kitten\n",
      "1               0.4                0.6     kitten\n",
      "2               0.5                0.2     kitten\n",
      "   sleep_proportion  grumpy_proportion prediction\n",
      "3               0.7                0.9      adult\n"
     ]
    },
    {
     "data": {
      "image/png": "[encoded data removed]",
      "text/plain": [
       "<Figure size 432x288 with 1 Axes>"
      ]
     },
     "metadata": {
      "needs_background": "light"
     },
     "output_type": "display_data"
    }
   ],
   "source": [
    "kittens = df[df['prediction'] == 'kitten']\n",
    "adults = df[df['prediction'] == 'adult']\n",
    "print(kittens)\n",
    "print(adults)\n",
    "\n",
    "plt.scatter(kittens['sleep_proportion'],\n",
    "            kittens['grumpy_proportion'], \n",
    "            label='Kittens')\n",
    "plt.scatter(adults['sleep_proportion'],\n",
    "            adults['grumpy_proportion'], \n",
    "            color='r', label='Adults')\n",
    "plt.xlabel(\"Sleeping proportion of day\")\n",
    "plt.ylabel(\"Grumpy proportion of day\")\n",
    "plt.legend()\n",
    "plt.axis([0,1,0,1])\n",
    "plt.grid()"
   ]
  },
  {
   "cell_type": "code",
   "execution_count": 5,
   "metadata": {},
   "outputs": [
    {
     "data": {
      "text/html": [
       "<div>\n",
       "<style scoped>\n",
       "    .dataframe tbody tr th:only-of-type {\n",
       "        vertical-align: middle;\n",
       "    }\n",
       "\n",
       "    .dataframe tbody tr th {\n",
       "        vertical-align: top;\n",
       "    }\n",
       "\n",
       "    .dataframe thead th {\n",
       "        text-align: right;\n",
       "    }\n",
       "</style>\n",
       "<table border=\"1\" class=\"dataframe\">\n",
       "  <thead>\n",
       "    <tr style=\"text-align: right;\">\n",
       "      <th></th>\n",
       "      <th>sleep_proportion</th>\n",
       "      <th>grumpy_proportion</th>\n",
       "      <th>prediction</th>\n",
       "      <th>bprediction</th>\n",
       "    </tr>\n",
       "  </thead>\n",
       "  <tbody>\n",
       "    <tr>\n",
       "      <th>0</th>\n",
       "      <td>0.2</td>\n",
       "      <td>0.1</td>\n",
       "      <td>kitten</td>\n",
       "      <td>True</td>\n",
       "    </tr>\n",
       "    <tr>\n",
       "      <th>1</th>\n",
       "      <td>0.4</td>\n",
       "      <td>0.6</td>\n",
       "      <td>kitten</td>\n",
       "      <td>True</td>\n",
       "    </tr>\n",
       "    <tr>\n",
       "      <th>2</th>\n",
       "      <td>0.5</td>\n",
       "      <td>0.2</td>\n",
       "      <td>kitten</td>\n",
       "      <td>True</td>\n",
       "    </tr>\n",
       "    <tr>\n",
       "      <th>3</th>\n",
       "      <td>0.7</td>\n",
       "      <td>0.9</td>\n",
       "      <td>adult</td>\n",
       "      <td>False</td>\n",
       "    </tr>\n",
       "  </tbody>\n",
       "</table>\n",
       "</div>"
      ],
      "text/plain": [
       "   sleep_proportion  grumpy_proportion prediction  bprediction\n",
       "0               0.2                0.1     kitten         True\n",
       "1               0.4                0.6     kitten         True\n",
       "2               0.5                0.2     kitten         True\n",
       "3               0.7                0.9      adult        False"
      ]
     },
     "execution_count": 5,
     "metadata": {},
     "output_type": "execute_result"
    }
   ],
   "source": [
    "df['bprediction'] = df['prediction'].apply(\n",
    "    lambda x: x == 'kitten')\n",
    "\n",
    "from sklearn.linear_model import Perceptron\n",
    "\n",
    "classifier = Perceptron(max_iter=1000)\n",
    "model = classifier.fit(df[['sleep_proportion',\n",
    "                           'grumpy_proportion']], \n",
    "                       df['bprediction'])\n",
    "df"
   ]
  },
  {
   "cell_type": "code",
   "execution_count": 6,
   "metadata": {},
   "outputs": [
    {
     "name": "stdout",
     "output_type": "stream",
     "text": [
      "[ True]\n",
      "[False]\n",
      "[ True False]\n"
     ]
    }
   ],
   "source": [
    "print(model.predict([[0.2,0.1]]))\n",
    "print(model.predict([[0.7,0.9]]))\n",
    "print(model.predict([[0.5,0.5],[0.9,0.9]]))"
   ]
  },
  {
   "cell_type": "code",
   "execution_count": 7,
   "metadata": {},
   "outputs": [
    {
     "data": {
      "image/png": "[encoded data removed]",
      "text/plain": [
       "<Figure size 432x288 with 1 Axes>"
      ]
     },
     "metadata": {
      "needs_background": "light"
     },
     "output_type": "display_data"
    }
   ],
   "source": [
    "import numpy as np \n",
    "\n",
    "x_min, x_max = 0, 1\n",
    "y_min, y_max = 0, 1\n",
    "\n",
    "xx, yy = np.meshgrid(np.arange(x_min, x_max, 0.01),\n",
    "                     np.arange(y_min, y_max, 0.01))\n",
    "\n",
    "# print(xx)\n",
    "#print(yy)\n",
    "\n",
    "xx_lin = xx.ravel()\n",
    "# print(xx_lin)\n",
    "yy_lin = yy.ravel()\n",
    "#print(yy_lin)\n",
    "\n",
    "pred_input = np.c_[xx_lin, yy_lin]\n",
    "# print(pred_input)\n",
    "\n",
    "Z = model.predict(pred_input)\n",
    "#print(Z)\n",
    "Z = Z.reshape(xx.shape)\n",
    "#print(Z)\n",
    "\n",
    "# Contourf fills the area. It requires 2 dim array\n",
    "plt.contourf(xx,yy,Z, cmap = plt.cm.Pastel1)\n",
    "\n",
    "plt.scatter(kittens['sleep_proportion'],\n",
    "            kittens['grumpy_proportion'], \n",
    "            color='b', label='Kittens')\n",
    "plt.scatter(adults['sleep_proportion'],\n",
    "            adults['grumpy_proportion'], \n",
    "            color='r', label='Adults')\n",
    "plt.axis([0,1,0,1])\n",
    "plt.grid()"
   ]
  },
  {
   "cell_type": "code",
   "execution_count": 8,
   "metadata": {},
   "outputs": [
    {
     "name": "stdout",
     "output_type": "stream",
     "text": [
      "[[-0.7 -1. ]]\n"
     ]
    }
   ],
   "source": [
    "print(model.coef_)"
   ]
  },
  {
   "cell_type": "code",
   "execution_count": 9,
   "metadata": {},
   "outputs": [
    {
     "name": "stdout",
     "output_type": "stream",
     "text": [
      "[1.]\n"
     ]
    }
   ],
   "source": [
    "print(model.intercept_)"
   ]
  },
  {
   "cell_type": "code",
   "execution_count": 10,
   "metadata": {},
   "outputs": [
    {
     "name": "stdout",
     "output_type": "stream",
     "text": [
      "[[1 0]\n",
      " [0 3]]\n"
     ]
    }
   ],
   "source": [
    "from sklearn.metrics import confusion_matrix\n",
    "\n",
    "actual = df['bprediction']\n",
    "pred = model.predict(df[['sleep_proportion','grumpy_proportion']])\n",
    "print(confusion_matrix(actual, pred))"
   ]
  },
  {
   "cell_type": "code",
   "execution_count": 11,
   "metadata": {},
   "outputs": [
    {
     "name": "stdout",
     "output_type": "stream",
     "text": [
      "              precision    recall  f1-score   support\n",
      "\n",
      "       False       1.00      1.00      1.00         1\n",
      "        True       1.00      1.00      1.00         3\n",
      "\n",
      "    accuracy                           1.00         4\n",
      "   macro avg       1.00      1.00      1.00         4\n",
      "weighted avg       1.00      1.00      1.00         4\n",
      "\n"
     ]
    }
   ],
   "source": [
    "from sklearn.metrics import classification_report\n",
    "\n",
    "actual = df['bprediction']\n",
    "pred = model.predict(df[['sleep_proportion','grumpy_proportion']])\n",
    "print(classification_report(actual, pred))"
   ]
  },
  {
   "cell_type": "markdown",
   "metadata": {},
   "source": [
    "## SVM"
   ]
  },
  {
   "cell_type": "code",
   "execution_count": 12,
   "metadata": {},
   "outputs": [],
   "source": [
    "from sklearn.svm import SVC\n",
    "\n",
    "SVCClassifier = SVC(kernel='linear',C = 10, max_iter=5)\n",
    "\n",
    "SVCModel = SVCClassifier.fit(df[['sleep_proportion',\n",
    "                                 'grumpy_proportion']], \n",
    "                       df['bprediction'])"
   ]
  },
  {
   "cell_type": "code",
   "execution_count": 13,
   "metadata": {},
   "outputs": [
    {
     "name": "stdout",
     "output_type": "stream",
     "text": [
      "[ True]\n",
      "[False]\n",
      "[ True False]\n"
     ]
    }
   ],
   "source": [
    "print(SVCModel.predict([[0.2,0.1]]))\n",
    "print(SVCModel.predict([[0.7,0.9]]))\n",
    "print(SVCModel.predict([[0.5,0.5],[0.9,0.9]]))"
   ]
  },
  {
   "cell_type": "code",
   "execution_count": 14,
   "metadata": {},
   "outputs": [
    {
     "data": {
      "image/png": "[encoded data removed]",
      "text/plain": [
       "<Figure size 432x288 with 1 Axes>"
      ]
     },
     "metadata": {
      "needs_background": "light"
     },
     "output_type": "display_data"
    }
   ],
   "source": [
    "Z = SVCModel.predict(pred_input)\n",
    "#print(Z)\n",
    "Z = Z.reshape(xx.shape)\n",
    "#print(Z)\n",
    "\n",
    "# Contourf fills the area. It requires 2 dim array\n",
    "plt.contourf(xx,yy,Z, cmap = plt.cm.Pastel1)\n",
    "\n",
    "plt.scatter(kittens['sleep_proportion'],\n",
    "            kittens['grumpy_proportion'], \n",
    "            color='b', label='Kittens')\n",
    "plt.scatter(adults['sleep_proportion'],\n",
    "            adults['grumpy_proportion'], \n",
    "            color='r', label='Adults')\n",
    "plt.axis([0,1,0,1])\n",
    "plt.grid()"
   ]
  },
  {
   "cell_type": "code",
   "execution_count": 15,
   "metadata": {},
   "outputs": [
    {
     "name": "stdout",
     "output_type": "stream",
     "text": [
      "[[-3. -3.]]\n"
     ]
    }
   ],
   "source": [
    "print(SVCModel.coef_)"
   ]
  },
  {
   "cell_type": "code",
   "execution_count": 16,
   "metadata": {},
   "outputs": [
    {
     "name": "stdout",
     "output_type": "stream",
     "text": [
      "[3.89999986]\n"
     ]
    }
   ],
   "source": [
    "print(SVCModel.intercept_)"
   ]
  },
  {
   "cell_type": "code",
   "execution_count": 17,
   "metadata": {},
   "outputs": [
    {
     "name": "stdout",
     "output_type": "stream",
     "text": [
      "[[0.7 0.9]\n",
      " [0.4 0.6]]\n"
     ]
    }
   ],
   "source": [
    "print(SVCModel.support_vectors_)"
   ]
  },
  {
   "cell_type": "code",
   "execution_count": 18,
   "metadata": {},
   "outputs": [
    {
     "name": "stdout",
     "output_type": "stream",
     "text": [
      "[[1 0]\n",
      " [0 3]]\n"
     ]
    }
   ],
   "source": [
    "from sklearn.metrics import confusion_matrix\n",
    "\n",
    "actual = df['bprediction']\n",
    "pred = SVCModel.predict(df[['sleep_proportion','grumpy_proportion']])\n",
    "print(confusion_matrix(actual, pred))"
   ]
  },
  {
   "cell_type": "code",
   "execution_count": 19,
   "metadata": {},
   "outputs": [
    {
     "name": "stdout",
     "output_type": "stream",
     "text": [
      "              precision    recall  f1-score   support\n",
      "\n",
      "       False       1.00      1.00      1.00         1\n",
      "        True       1.00      1.00      1.00         3\n",
      "\n",
      "    accuracy                           1.00         4\n",
      "   macro avg       1.00      1.00      1.00         4\n",
      "weighted avg       1.00      1.00      1.00         4\n",
      "\n"
     ]
    }
   ],
   "source": [
    "from sklearn.metrics import classification_report\n",
    "\n",
    "actual = df['bprediction']\n",
    "pred = model.predict(df[['sleep_proportion','grumpy_proportion']])\n",
    "print(classification_report(actual, pred))"
   ]
  },
  {
   "cell_type": "markdown",
   "metadata": {},
   "source": [
    "## Confusion Matrix"
   ]
  },
  {
   "cell_type": "code",
   "execution_count": 20,
   "metadata": {},
   "outputs": [
    {
     "name": "stdout",
     "output_type": "stream",
     "text": [
      "[[2 1]\n",
      " [0 1]]\n"
     ]
    }
   ],
   "source": [
    "# For Binary Classification Boolean data\n",
    "from sklearn.metrics import confusion_matrix\n",
    "\n",
    "actual = np.array([True,True,False,True])\n",
    "pred = np.array([True,True,False,False])\n",
    "\n",
    "print(confusion_matrix(actual, pred, labels = [True,False])) # labels changes the position of classes in confusion matrix"
   ]
  },
  {
   "cell_type": "code",
   "execution_count": 21,
   "metadata": {},
   "outputs": [
    {
     "name": "stdout",
     "output_type": "stream",
     "text": [
      "[[1 1]\n",
      " [1 2]]\n"
     ]
    }
   ],
   "source": [
    "# For Binary Classification Categorial data\n",
    "from sklearn.metrics import confusion_matrix\n",
    "\n",
    "actual = np.array(['Dog','Cat','Dog','Dog','Cat'])\n",
    "pred = np.array(['Dog','Dog','Dog','Cat','Cat'])\n",
    "\n",
    "print(confusion_matrix(actual, pred, labels = ['Cat','Dog']))"
   ]
  },
  {
   "cell_type": "code",
   "execution_count": 22,
   "metadata": {},
   "outputs": [
    {
     "name": "stdout",
     "output_type": "stream",
     "text": [
      "[[2 1 0]\n",
      " [0 4 2]\n",
      " [0 3 4]]\n"
     ]
    }
   ],
   "source": [
    "# For Multi-class Classification data\n",
    "from sklearn.metrics import confusion_matrix\n",
    "\n",
    "actual = np.array([0,0,1,1,1,1,1,2,2,2,2,2,2,2,0,1])\n",
    "pred = np.array([0,1,1,2,1,2,1,2,2,2,2,1,1,1,0,1])\n",
    "\n",
    "print(confusion_matrix(actual, pred, labels = [0,1,2]))"
   ]
  },
  {
   "cell_type": "markdown",
   "metadata": {},
   "source": [
    "## Classification Report"
   ]
  },
  {
   "cell_type": "code",
   "execution_count": 23,
   "metadata": {},
   "outputs": [
    {
     "name": "stdout",
     "output_type": "stream",
     "text": [
      "              precision    recall  f1-score   support\n",
      "\n",
      " Class False       0.50      1.00      0.67         1\n",
      "  Class True       1.00      0.67      0.80         3\n",
      "\n",
      "    accuracy                           0.75         4\n",
      "   macro avg       0.75      0.83      0.73         4\n",
      "weighted avg       0.88      0.75      0.77         4\n",
      "\n"
     ]
    }
   ],
   "source": [
    "from sklearn.metrics import classification_report\n",
    "\n",
    "actual = np.array([True,True,False,True])\n",
    "pred = np.array([True,True,False,False])\n",
    "\n",
    "print(classification_report(actual, pred, target_names = ['Class False','Class True']))\n",
    "\n",
    "# Target names assigns the name to classes in report if required\n",
    "# Only string data supported\n",
    "# If not mentioned, default class name is assigned"
   ]
  },
  {
   "cell_type": "code",
   "execution_count": 24,
   "metadata": {},
   "outputs": [
    {
     "name": "stdout",
     "output_type": "stream",
     "text": [
      "              precision    recall  f1-score   support\n",
      "\n",
      "         Cat       0.50      0.50      0.50         2\n",
      "         Dog       0.67      0.67      0.67         3\n",
      "\n",
      "    accuracy                           0.60         5\n",
      "   macro avg       0.58      0.58      0.58         5\n",
      "weighted avg       0.60      0.60      0.60         5\n",
      "\n"
     ]
    }
   ],
   "source": [
    "from sklearn.metrics import classification_report\n",
    "\n",
    "actual = np.array(['Dog','Cat','Dog','Dog','Cat'])\n",
    "pred = np.array(['Dog','Dog','Dog','Cat','Cat'])\n",
    "\n",
    "print(classification_report(actual, pred, target_names = ['Cat','Dog']))"
   ]
  },
  {
   "cell_type": "code",
   "execution_count": 25,
   "metadata": {},
   "outputs": [
    {
     "name": "stdout",
     "output_type": "stream",
     "text": [
      "              precision    recall  f1-score   support\n",
      "\n",
      "     Class 0       1.00      0.67      0.80         3\n",
      "     Class 1       0.50      0.67      0.57         6\n",
      "     Class 2       0.67      0.57      0.62         7\n",
      "\n",
      "    accuracy                           0.62        16\n",
      "   macro avg       0.72      0.63      0.66        16\n",
      "weighted avg       0.67      0.62      0.63        16\n",
      "\n"
     ]
    }
   ],
   "source": [
    "from sklearn.metrics import classification_report\n",
    "\n",
    "actual = np.array([0,0,1,1,1,1,1,2,2,2,2,2,2,2,0,1])\n",
    "pred = np.array([0,1,1,2,1,2,1,2,2,2,2,1,1,1,0,1])\n",
    "\n",
    "print(classification_report(actual, pred, target_names = ['Class 0','Class 1', 'Class 2']))"
   ]
  },
  {
   "cell_type": "code",
   "execution_count": null,
   "metadata": {},
   "outputs": [],
   "source": []
  },
  {
   "cell_type": "code",
   "execution_count": null,
   "metadata": {},
   "outputs": [],
   "source": []
  }
 ],
 "metadata": {
  "kernelspec": {
   "display_name": "Python 3",
   "language": "python",
   "name": "python3"
  },
  "language_info": {
   "codemirror_mode": {
    "name": "ipython",
    "version": 3
   },
   "file_extension": ".py",
   "mimetype": "text/x-python",
   "name": "python",
   "nbconvert_exporter": "python",
   "pygments_lexer": "ipython3",
   "version": "3.6.7"
  }
 },
 "nbformat": 4,
 "nbformat_minor": 2
}
