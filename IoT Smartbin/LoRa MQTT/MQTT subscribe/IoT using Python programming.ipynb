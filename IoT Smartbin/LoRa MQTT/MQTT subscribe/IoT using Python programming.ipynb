{
 "cells": [
  {
   "cell_type": "markdown",
   "metadata": {},
   "source": [
    "# IoT using Python programming"
   ]
  },
  {
   "cell_type": "markdown",
   "metadata": {},
   "source": [
    "### 1. Distance calculation between 2 points"
   ]
  },
  {
   "cell_type": "markdown",
   "metadata": {},
   "source": [
    "Calculate distance between the two points in space mentioned by two arrays.\n",
    "Take array values from user.\n"
   ]
  },
  {
   "cell_type": "code",
   "execution_count": null,
   "metadata": {},
   "outputs": [],
   "source": [
    "import matplotlib.pyplot as plt\n",
    "import numpy as np\n",
    "import math\n",
    "a=int(input(\"Enter x1 of point1: \"))\n",
    "b=int(input(\"Enter y1 of point1: \"))\n",
    "c=int(input(\"Enter z1 of point1: \"))\n",
    "x1=np.array([a,b,c])\n",
    "print(\"Your first point is \")\n",
    "print(x1)\n",
    "\n",
    "d=int(input(\"Enter x2 of point2: \"))\n",
    "e=int(input(\"Enter y2 of point2: \"))\n",
    "f=int(input(\"Enter z2 of point2: \"))\n",
    "x2=np.array([d,e,f])\n",
    "print(\"Your second point is \")\n",
    "print(x2)\n",
    "d=math.sqrt(((x1[0]-x2[0])**2)+((x1[1]-x2[1])**2)+((x1[2]-x2[2])**2))\n",
    "print(\"The distance between these two points is %.2f\"%(d))"
   ]
  },
  {
   "cell_type": "markdown",
   "metadata": {},
   "source": [
    "### 2. Chess pattern generation"
   ]
  },
  {
   "cell_type": "markdown",
   "metadata": {},
   "source": [
    "Create chess pattern of 1s and 0s using numpy."
   ]
  },
  {
   "cell_type": "code",
   "execution_count": null,
   "metadata": {},
   "outputs": [],
   "source": [
    "import numpy as np\n",
    "\n",
    "size = int(input(\"Enter the size of the pattern\"))\n",
    "list1 = []\n",
    "for i in range(size):\n",
    "    for j in range(size):\n",
    "        if (i+j)%2 != 0:\n",
    "            list1.append(1)\n",
    "        else:\n",
    "            list1.append(0)\n",
    "\n",
    "a = np.array(list1)\n",
    "print(a.reshape(size,size))\n",
    "        "
   ]
  },
  {
   "cell_type": "markdown",
   "metadata": {},
   "source": [
    "### 3. Plotting 3 phase plot"
   ]
  },
  {
   "cell_type": "code",
   "execution_count": null,
   "metadata": {},
   "outputs": [],
   "source": [
    "import numpy as np\n",
    "import matplotlib.pyplot as plt\n",
    "\n",
    "degree = np.linspace(0,360,361)\n",
    "\n",
    "time1 = (degree*44)/(360*7)\n",
    "time2 = ((degree-120)*44)/(360*7)\n",
    "time3 = ((degree+30)*44)/(360*7)\n",
    "\n",
    "ampl1 = np.sin(time1)\n",
    "ampl2 = np.sin(time2)\n",
    "ampl3 = np.cos(time3)\n",
    "\n",
    "fig1 = plt.figure(figsize =(8,6), dpi =100)\n",
    "plt.plot(degree,ampl1, color='k', label='p1', linewidth='4')\n",
    "plt.plot(degree,ampl2, color='r', label='p2', linewidth='4')\n",
    "plt.plot(degree,ampl3, color='b', label='p3', linewidth='4')\n",
    "plt.legend()\n",
    "\n",
    "plt.title('Phase1   Phase2   Phase3', fontsize =25,color='k')\n",
    "plt.xlabel('degree', fontsize =20)\n",
    "plt.ylabel('Amplitude',fontsize =20)\n",
    "plt.grid(color='grey', linewidth='1.5')"
   ]
  },
  {
   "cell_type": "markdown",
   "metadata": {},
   "source": [
    "### 4. Plotting exponential curves"
   ]
  },
  {
   "cell_type": "markdown",
   "metadata": {},
   "source": [
    "Plot an exponential curve of powers ranging from 1 to 6 for 200 samples in a single graph. Use different colours for each plot."
   ]
  },
  {
   "cell_type": "code",
   "execution_count": null,
   "metadata": {},
   "outputs": [],
   "source": [
    "import numpy as np\n",
    "import matplotlib.pyplot as plt\n",
    "\n",
    "x = np.linspace(1, 6, 200)\n",
    "y = np.exp(x)\n",
    "plt.figure(figsize = (15,15))\n",
    "\n",
    "plt.subplot(2,3,1)\n",
    "plt.plot(x, y)\n",
    "plt.xlabel('$x$')\n",
    "plt.ylabel('$\\exp(x)$')\n",
    "\n",
    "plt.subplot(2,3,2)\n",
    "\n",
    "plt.plot(x, np.exp(2*x))\n",
    "plt.xlabel('$x$')\n",
    "plt.ylabel('$\\exp(2x)$')\n",
    "\n",
    "plt.subplot(2,3,3)\n",
    "\n",
    "plt.plot(x, np.exp(3*x))\n",
    "plt.xlabel('$x$')\n",
    "plt.ylabel('$\\exp(3x)$')\n",
    "\n",
    "\n",
    "plt.subplot(2,3,4)\n",
    "\n",
    "plt.plot(x, np.exp(4*x))\n",
    "plt.xlabel('$x$')\n",
    "plt.ylabel('$\\exp(4x)$')\n",
    "\n",
    "plt.subplot(2,3,5)\n",
    "\n",
    "plt.plot(x, np.exp(5*x))\n",
    "plt.xlabel('$x$')\n",
    "plt.ylabel('$\\exp(5x)$')\n",
    "\n",
    "plt.subplot(2,3,6)\n",
    "\n",
    "plt.plot(x, np.exp(6*x))\n",
    "plt.xlabel('$x$')\n",
    "plt.ylabel('$\\exp(6x)$')\n",
    "\n",
    "plt.show()"
   ]
  },
  {
   "cell_type": "markdown",
   "metadata": {},
   "source": [
    "### 5. Upload the sensor data to IoT Cloud"
   ]
  },
  {
   "cell_type": "code",
   "execution_count": null,
   "metadata": {},
   "outputs": [],
   "source": [
    "import time\n",
    "import thingspeak\n",
    "from urllib.request import urlopen\n",
    "import random\n",
    "\n",
    "\n",
    "channeID=536853\n",
    "writeAPIKey = \"3RFADWRAVWW3WE1F\"\n",
    "\n",
    "secondsDelay=20\n",
    "baseURL = 'http://api.thingspeak.com/update?api_key=3RFADWRAVWW3WE1F&field1='\n",
    "\n",
    "while True:\n",
    "    data_value=random.randint(5,60)\n",
    "    f = urlopen(baseURL +str(data_value))\n",
    "    f.read()\n",
    "    data_value=data_value+1\n",
    "    time.sleep(secondsDelay)"
   ]
  },
  {
   "cell_type": "markdown",
   "metadata": {},
   "source": [
    "### 6. Upload multiple sensor data to IoT Cloud"
   ]
  },
  {
   "cell_type": "code",
   "execution_count": null,
   "metadata": {},
   "outputs": [],
   "source": [
    "import time\n",
    "import requests\n",
    "\n",
    "writeAPIKey = \"C27OTKX1M032DUSL\"\n",
    "data1_value,data2_value=0,0\n",
    "secondsDelay=20\n",
    "\n",
    "while True:\n",
    "\tprint \"Uploading\", data1_value, \"and\", data2_value\n",
    "\tresponse=requests.get(\"https://api.thingspeak.com/update?api_key=%s&field1=%d&field2=%d\"%(writeAPIKey,data1_value,data2_value))\n",
    "\tdata1_value=data1_value+1\n",
    "\tdata2_value=data1_value**2\n",
    "\tprint response\n",
    "\ttime.sleep(secondsDelay)"
   ]
  },
  {
   "cell_type": "markdown",
   "metadata": {},
   "source": [
    "### 7. Continuous sensor data uploading using datetime"
   ]
  },
  {
   "cell_type": "markdown",
   "metadata": {},
   "source": [
    "Keep ulploading a sensor data continuously at regular intervals using datetime"
   ]
  },
  {
   "cell_type": "code",
   "execution_count": null,
   "metadata": {},
   "outputs": [],
   "source": [
    "import time\n",
    "import thingspeak\n",
    "from urllib.request import urlopen\n",
    "import random\n",
    "import datetime\n",
    "\n",
    "x= datetime.datetime.now()\n",
    "#print(x.strftime(\"%H\"))\n",
    "hour = int(x.strftime(\"%H\"))\n",
    "channeID=536853\n",
    "writeAPIKey = \"3RFADWRAVWW3WE1F\"\n",
    "\n",
    "secondsDelay=60\n",
    "baseURL = 'http://api.thingspeak.com/update?api_key=3RFADWRAVWW3WE1F&field1='\n",
    "\n",
    "while True:\n",
    "    x= datetime.datetime.now()\n",
    "    hour = int(x.strftime(\"%H\"))\n",
    "    if hour >= 18 and hour < 21:\n",
    "        print(x.strftime(\"%H\"),\":\",x.strftime(\"%M\"))\n",
    "        data_value=random.randint(5,60)\n",
    "        f = urlopen(baseURL +str(data_value))\n",
    "        f.read()\n",
    "        data_value=data_value+1\n",
    "        time.sleep(secondsDelay)"
   ]
  },
  {
   "cell_type": "markdown",
   "metadata": {},
   "source": [
    "### 8. Download the sensor data from IoT Cloud"
   ]
  },
  {
   "cell_type": "code",
   "execution_count": null,
   "metadata": {},
   "outputs": [],
   "source": [
    "import time\n",
    "import requests\n",
    "import json\n",
    "from pprint import pprint\n",
    "import datetime\n",
    "\n",
    "# define channelID, readAPIKey, tweetAPIKey\n",
    "channelID = 1308330\n",
    "readAPIKey = \"ECJMWZ0EV28IVGQ3\"\n",
    "\n",
    "lightList=[]\n",
    "currentEntryID=0\n",
    "secondsDelay=60\n",
    "\n",
    "while True:\n",
    "    try:\n",
    "        r=requests.get(\"https://api.thingspeak.com/channels/%d/feeds.json?api_key=%s&results=1\"%(channelID,readAPIKey))\n",
    "        print(\"HTTP request report\", r)\n",
    "        data=r.json()\n",
    "        lastUpdate = data[\"feeds\"][0][\"created_at\"]\n",
    "        print(\"Last updated:\", lastUpdate)\n",
    "        entryID = data[\"feeds\"][0][\"entry_id\"]\n",
    "        print(\"Entry ID:\", entryID)\n",
    "        if currentEntryID is not entryID:\n",
    "            currentEntryID = entryID\n",
    "            lightLevel = data[\"feeds\"][0][\"field1\"]\n",
    "            print(\"Light intensity:\", lightLevel)\n",
    "            lightList.append(lightLevel)\n",
    "            hour=lastUpdate[11:13]\n",
    "    except KeyboardInterrupt:\n",
    "        raise\n",
    "    except Exception as e:\n",
    "        print(e)\n",
    "        continue\n",
    "    time.sleep(secondsDelay)"
   ]
  },
  {
   "cell_type": "markdown",
   "metadata": {},
   "source": [
    "### 9. Continuous sensor data downloading using datetime"
   ]
  },
  {
   "cell_type": "code",
   "execution_count": null,
   "metadata": {},
   "outputs": [],
   "source": [
    "import time\n",
    "import requests\n",
    "import json\n",
    "from pprint import pprint\n",
    "import datetime\n",
    "\n",
    "# define channelID, readAPIKey, tweetAPIKey\n",
    "channelID = 1308330\n",
    "readAPIKey = \"ECJMWZ0EV28IVGQ3\"\n",
    "\n",
    "lightList=[]\n",
    "currentEntryID=0\n",
    "secondsDelay=60\n",
    "\n",
    "while True:\n",
    "    try:\n",
    "        x= datetime.datetime.now()\n",
    "        hour = int(x.strftime(\"%H\"))\n",
    "        if hour >= 18 and hour < 21:\n",
    "            r=requests.get(\"https://api.thingspeak.com/channels/%d/feeds.json?api_key=%s&results=1\"%(channelID,readAPIKey))\n",
    "            print(\"HTTP request report\", r)\n",
    "            data=r.json()\n",
    "            lastUpdate = data[\"feeds\"][0][\"created_at\"]\n",
    "            print(\"Last updated:\", lastUpdate)\n",
    "            entryID = data[\"feeds\"][0][\"entry_id\"]\n",
    "            print(\"Entry ID:\", entryID)\n",
    "            if currentEntryID is not entryID:\n",
    "                currentEntryID = entryID\n",
    "                lightLevel = data[\"feeds\"][0][\"field1\"]\n",
    "                print(\"Light intensity:\", lightLevel)\n",
    "                lightList.append(lightLevel)\n",
    "    except KeyboardInterrupt:\n",
    "        raise\n",
    "    except Exception as e:\n",
    "        print(e)\n",
    "        continue\n",
    "    time.sleep(secondsDelay)"
   ]
  },
  {
   "cell_type": "markdown",
   "metadata": {},
   "source": [
    "### 10. Real time Alarm system upon IoT Cloud data processing"
   ]
  },
  {
   "cell_type": "code",
   "execution_count": null,
   "metadata": {},
   "outputs": [],
   "source": []
  },
  {
   "cell_type": "markdown",
   "metadata": {},
   "source": [
    "### 11. Real time Tweeting upon IoT Cloud data processing"
   ]
  },
  {
   "cell_type": "code",
   "execution_count": null,
   "metadata": {},
   "outputs": [],
   "source": [
    "import time\n",
    "import requests\n",
    "import json\n",
    "from pprint import pprint\n",
    "import datetime\n",
    "\n",
    "# define channelID, readAPIKey, tweetAPIKey\n",
    "channelID = 1308330\n",
    "readAPIKey = \"ECJMWZ0EV28IVGQ3\"\n",
    "tweetAPIKey = \"CIXZ8L3C9EK9TO8S\"\n",
    "\n",
    "lightList=[]\n",
    "currentEntryID=0\n",
    "secondsDelay=60\n",
    "\n",
    "while True:\n",
    "    try:\n",
    "        r=requests.get(\"https://api.thingspeak.com/channels/%d/feeds.json?api_key=%s&results=1\"%(channelID,readAPIKey))\n",
    "        print \"HTTP request report\", r\n",
    "        data=r.json()\n",
    "        lastUpdate = data[\"feeds\"][0][\"created_at\"]\n",
    "        print \"Last updated:\", lastUpdate\n",
    "        entryID = data[\"feeds\"][0][\"entry_id\"]\n",
    "        print \"Entry ID:\", entryID\n",
    "        if currentEntryID is not entryID:\n",
    "            currentEntryID = entryID\n",
    "            lightLevel = data[\"feeds\"][0][\"field1\"]\n",
    "            print \"Light intensity:\", lightLevel\n",
    "            lightList.append(lightLevel)\n",
    "            hour=lastUpdate[11:13]\n",
    "            if int(lightList[-1]) >= 75 and int(hour)> 7 and int(hour)< 18:\n",
    "                r=requests.post(\"https://api.thingspeak.com/apps/thingtweet/1/statuses/update?api_key=%s&status=Light intensity is low! Climate might be cloudy!\"%(tweetAPIKey))\n",
    "                print \"HTTP request report\", r.text\n",
    "                print \"Message tweeted\"\n",
    "    except KeyboardInterrupt:\n",
    "        raise\n",
    "    except Exception as e:\n",
    "        print e\n",
    "        continue\n",
    "    time.sleep(secondsDelay)"
   ]
  },
  {
   "cell_type": "markdown",
   "metadata": {},
   "source": [
    "### 12. Real time IoT data displayed on local web server"
   ]
  },
  {
   "cell_type": "code",
   "execution_count": null,
   "metadata": {},
   "outputs": [],
   "source": []
  }
 ],
 "metadata": {
  "kernelspec": {
   "display_name": "Python 3",
   "language": "python",
   "name": "python3"
  },
  "language_info": {
   "codemirror_mode": {
    "name": "ipython",
    "version": 3
   },
   "file_extension": ".py",
   "mimetype": "text/x-python",
   "name": "python",
   "nbconvert_exporter": "python",
   "pygments_lexer": "ipython3",
   "version": "3.8.5"
  }
 },
 "nbformat": 4,
 "nbformat_minor": 5
}
